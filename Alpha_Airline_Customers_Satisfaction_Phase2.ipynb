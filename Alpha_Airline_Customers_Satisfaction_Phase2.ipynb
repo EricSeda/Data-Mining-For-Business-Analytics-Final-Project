{
 "cells": [
  {
   "cell_type": "code",
   "execution_count": 3,
   "metadata": {
    "id": "a6VJ8iArfzyk"
   },
   "outputs": [],
   "source": [
    "import pandas as pd\n",
    "import numpy as np\n",
    "import matplotlib.pyplot as plt\n",
    "import seaborn as sns\n",
    "\n",
    "\n",
    "from sklearn.model_selection import train_test_split\n",
    "from sklearn.linear_model import LogisticRegression, LogisticRegressionCV\n",
    "from sklearn.metrics import accuracy_score, recall_score, precision_score, f1_score, classification_report \n",
    "from sklearn.metrics import roc_curve,auc\n",
    "from sklearn.tree import DecisionTreeClassifier\n",
    "from sklearn.naive_bayes import GaussianNB\n",
    "from sklearn.decomposition import PCA\n",
    "from dmba import plotDecisionTree, gainsChart, liftChart\n",
    "from dmba import classificationSummary, regressionSummary\n"
   ]
  },
  {
   "cell_type": "code",
   "execution_count": null,
   "metadata": {},
   "outputs": [],
   "source": []
  },
  {
   "cell_type": "code",
   "execution_count": 1,
   "metadata": {},
   "outputs": [
    {
     "name": "stdout",
     "output_type": "stream",
     "text": [
      "Requirement already satisfied: dmba in /Users/ericseda/opt/anaconda3/lib/python3.8/site-packages (0.0.18)\n",
      "Note: you may need to restart the kernel to use updated packages.\n"
     ]
    }
   ],
   "source": [
    "pip install dmba"
   ]
  },
  {
   "cell_type": "code",
   "execution_count": 4,
   "metadata": {
    "id": "G6wWDLgegr6T"
   },
   "outputs": [],
   "source": [
    "df=pd.read_csv('Invistico_Airline.csv')"
   ]
  },
  {
   "cell_type": "code",
   "execution_count": 5,
   "metadata": {
    "colab": {
     "base_uri": "https://localhost:8080/",
     "height": 360
    },
    "id": "D0l0iUYPGuzu",
    "outputId": "cd0d4e8a-3d88-42f0-aaa0-23d3b4a60a50"
   },
   "outputs": [
    {
     "data": {
      "text/html": [
       "<div>\n",
       "<style scoped>\n",
       "    .dataframe tbody tr th:only-of-type {\n",
       "        vertical-align: middle;\n",
       "    }\n",
       "\n",
       "    .dataframe tbody tr th {\n",
       "        vertical-align: top;\n",
       "    }\n",
       "\n",
       "    .dataframe thead th {\n",
       "        text-align: right;\n",
       "    }\n",
       "</style>\n",
       "<table border=\"1\" class=\"dataframe\">\n",
       "  <thead>\n",
       "    <tr style=\"text-align: right;\">\n",
       "      <th></th>\n",
       "      <th>satisfaction</th>\n",
       "      <th>Gender</th>\n",
       "      <th>Customer Type</th>\n",
       "      <th>Age</th>\n",
       "      <th>Type of Travel</th>\n",
       "      <th>Class</th>\n",
       "      <th>Flight Distance</th>\n",
       "      <th>Seat comfort</th>\n",
       "      <th>Departure/Arrival time convenient</th>\n",
       "      <th>Food and drink</th>\n",
       "      <th>...</th>\n",
       "      <th>Online support</th>\n",
       "      <th>Ease of Online booking</th>\n",
       "      <th>On-board service</th>\n",
       "      <th>Leg room service</th>\n",
       "      <th>Baggage handling</th>\n",
       "      <th>Checkin service</th>\n",
       "      <th>Cleanliness</th>\n",
       "      <th>Online boarding</th>\n",
       "      <th>Departure Delay in Minutes</th>\n",
       "      <th>Arrival Delay in Minutes</th>\n",
       "    </tr>\n",
       "  </thead>\n",
       "  <tbody>\n",
       "    <tr>\n",
       "      <th>0</th>\n",
       "      <td>satisfied</td>\n",
       "      <td>Female</td>\n",
       "      <td>Loyal Customer</td>\n",
       "      <td>65</td>\n",
       "      <td>Personal Travel</td>\n",
       "      <td>Eco</td>\n",
       "      <td>265</td>\n",
       "      <td>0</td>\n",
       "      <td>0</td>\n",
       "      <td>0</td>\n",
       "      <td>...</td>\n",
       "      <td>2</td>\n",
       "      <td>3</td>\n",
       "      <td>3</td>\n",
       "      <td>0</td>\n",
       "      <td>3</td>\n",
       "      <td>5</td>\n",
       "      <td>3</td>\n",
       "      <td>2</td>\n",
       "      <td>0</td>\n",
       "      <td>0.0</td>\n",
       "    </tr>\n",
       "    <tr>\n",
       "      <th>1</th>\n",
       "      <td>satisfied</td>\n",
       "      <td>Male</td>\n",
       "      <td>Loyal Customer</td>\n",
       "      <td>47</td>\n",
       "      <td>Personal Travel</td>\n",
       "      <td>Business</td>\n",
       "      <td>2464</td>\n",
       "      <td>0</td>\n",
       "      <td>0</td>\n",
       "      <td>0</td>\n",
       "      <td>...</td>\n",
       "      <td>2</td>\n",
       "      <td>3</td>\n",
       "      <td>4</td>\n",
       "      <td>4</td>\n",
       "      <td>4</td>\n",
       "      <td>2</td>\n",
       "      <td>3</td>\n",
       "      <td>2</td>\n",
       "      <td>310</td>\n",
       "      <td>305.0</td>\n",
       "    </tr>\n",
       "    <tr>\n",
       "      <th>2</th>\n",
       "      <td>satisfied</td>\n",
       "      <td>Female</td>\n",
       "      <td>Loyal Customer</td>\n",
       "      <td>15</td>\n",
       "      <td>Personal Travel</td>\n",
       "      <td>Eco</td>\n",
       "      <td>2138</td>\n",
       "      <td>0</td>\n",
       "      <td>0</td>\n",
       "      <td>0</td>\n",
       "      <td>...</td>\n",
       "      <td>2</td>\n",
       "      <td>2</td>\n",
       "      <td>3</td>\n",
       "      <td>3</td>\n",
       "      <td>4</td>\n",
       "      <td>4</td>\n",
       "      <td>4</td>\n",
       "      <td>2</td>\n",
       "      <td>0</td>\n",
       "      <td>0.0</td>\n",
       "    </tr>\n",
       "    <tr>\n",
       "      <th>3</th>\n",
       "      <td>satisfied</td>\n",
       "      <td>Female</td>\n",
       "      <td>Loyal Customer</td>\n",
       "      <td>60</td>\n",
       "      <td>Personal Travel</td>\n",
       "      <td>Eco</td>\n",
       "      <td>623</td>\n",
       "      <td>0</td>\n",
       "      <td>0</td>\n",
       "      <td>0</td>\n",
       "      <td>...</td>\n",
       "      <td>3</td>\n",
       "      <td>1</td>\n",
       "      <td>1</td>\n",
       "      <td>0</td>\n",
       "      <td>1</td>\n",
       "      <td>4</td>\n",
       "      <td>1</td>\n",
       "      <td>3</td>\n",
       "      <td>0</td>\n",
       "      <td>0.0</td>\n",
       "    </tr>\n",
       "    <tr>\n",
       "      <th>4</th>\n",
       "      <td>satisfied</td>\n",
       "      <td>Female</td>\n",
       "      <td>Loyal Customer</td>\n",
       "      <td>70</td>\n",
       "      <td>Personal Travel</td>\n",
       "      <td>Eco</td>\n",
       "      <td>354</td>\n",
       "      <td>0</td>\n",
       "      <td>0</td>\n",
       "      <td>0</td>\n",
       "      <td>...</td>\n",
       "      <td>4</td>\n",
       "      <td>2</td>\n",
       "      <td>2</td>\n",
       "      <td>0</td>\n",
       "      <td>2</td>\n",
       "      <td>4</td>\n",
       "      <td>2</td>\n",
       "      <td>5</td>\n",
       "      <td>0</td>\n",
       "      <td>0.0</td>\n",
       "    </tr>\n",
       "  </tbody>\n",
       "</table>\n",
       "<p>5 rows × 23 columns</p>\n",
       "</div>"
      ],
      "text/plain": [
       "  satisfaction  Gender   Customer Type  Age   Type of Travel     Class  \\\n",
       "0    satisfied  Female  Loyal Customer   65  Personal Travel       Eco   \n",
       "1    satisfied    Male  Loyal Customer   47  Personal Travel  Business   \n",
       "2    satisfied  Female  Loyal Customer   15  Personal Travel       Eco   \n",
       "3    satisfied  Female  Loyal Customer   60  Personal Travel       Eco   \n",
       "4    satisfied  Female  Loyal Customer   70  Personal Travel       Eco   \n",
       "\n",
       "   Flight Distance  Seat comfort  Departure/Arrival time convenient  \\\n",
       "0              265             0                                  0   \n",
       "1             2464             0                                  0   \n",
       "2             2138             0                                  0   \n",
       "3              623             0                                  0   \n",
       "4              354             0                                  0   \n",
       "\n",
       "   Food and drink  ...  Online support  Ease of Online booking  \\\n",
       "0               0  ...               2                       3   \n",
       "1               0  ...               2                       3   \n",
       "2               0  ...               2                       2   \n",
       "3               0  ...               3                       1   \n",
       "4               0  ...               4                       2   \n",
       "\n",
       "   On-board service  Leg room service  Baggage handling  Checkin service  \\\n",
       "0                 3                 0                 3                5   \n",
       "1                 4                 4                 4                2   \n",
       "2                 3                 3                 4                4   \n",
       "3                 1                 0                 1                4   \n",
       "4                 2                 0                 2                4   \n",
       "\n",
       "   Cleanliness  Online boarding  Departure Delay in Minutes  \\\n",
       "0            3                2                           0   \n",
       "1            3                2                         310   \n",
       "2            4                2                           0   \n",
       "3            1                3                           0   \n",
       "4            2                5                           0   \n",
       "\n",
       "   Arrival Delay in Minutes  \n",
       "0                       0.0  \n",
       "1                     305.0  \n",
       "2                       0.0  \n",
       "3                       0.0  \n",
       "4                       0.0  \n",
       "\n",
       "[5 rows x 23 columns]"
      ]
     },
     "execution_count": 5,
     "metadata": {},
     "output_type": "execute_result"
    }
   ],
   "source": [
    "df.head()"
   ]
  },
  {
   "cell_type": "markdown",
   "metadata": {
    "id": "aJegEA6iHknE"
   },
   "source": [
    "# Exploratory Analysis "
   ]
  },
  {
   "cell_type": "code",
   "execution_count": 6,
   "metadata": {
    "colab": {
     "base_uri": "https://localhost:8080/"
    },
    "id": "w0O5FtPaIhcK",
    "outputId": "66ac9b6b-42cc-41bb-80d8-e9f52d1858ac"
   },
   "outputs": [
    {
     "name": "stdout",
     "output_type": "stream",
     "text": [
      "<class 'pandas.core.frame.DataFrame'>\n",
      "RangeIndex: 129880 entries, 0 to 129879\n",
      "Data columns (total 23 columns):\n",
      " #   Column                             Non-Null Count   Dtype  \n",
      "---  ------                             --------------   -----  \n",
      " 0   satisfaction                       129880 non-null  object \n",
      " 1   Gender                             129880 non-null  object \n",
      " 2   Customer Type                      129880 non-null  object \n",
      " 3   Age                                129880 non-null  int64  \n",
      " 4   Type of Travel                     129880 non-null  object \n",
      " 5   Class                              129880 non-null  object \n",
      " 6   Flight Distance                    129880 non-null  int64  \n",
      " 7   Seat comfort                       129880 non-null  int64  \n",
      " 8   Departure/Arrival time convenient  129880 non-null  int64  \n",
      " 9   Food and drink                     129880 non-null  int64  \n",
      " 10  Gate location                      129880 non-null  int64  \n",
      " 11  Inflight wifi service              129880 non-null  int64  \n",
      " 12  Inflight entertainment             129880 non-null  int64  \n",
      " 13  Online support                     129880 non-null  int64  \n",
      " 14  Ease of Online booking             129880 non-null  int64  \n",
      " 15  On-board service                   129880 non-null  int64  \n",
      " 16  Leg room service                   129880 non-null  int64  \n",
      " 17  Baggage handling                   129880 non-null  int64  \n",
      " 18  Checkin service                    129880 non-null  int64  \n",
      " 19  Cleanliness                        129880 non-null  int64  \n",
      " 20  Online boarding                    129880 non-null  int64  \n",
      " 21  Departure Delay in Minutes         129880 non-null  int64  \n",
      " 22  Arrival Delay in Minutes           129487 non-null  float64\n",
      "dtypes: float64(1), int64(17), object(5)\n",
      "memory usage: 22.8+ MB\n"
     ]
    }
   ],
   "source": [
    "df.info()"
   ]
  },
  {
   "cell_type": "code",
   "execution_count": 7,
   "metadata": {
    "colab": {
     "base_uri": "https://localhost:8080/"
    },
    "id": "x2qqzNsN-MKG",
    "outputId": "6dd35a42-d430-49f3-8c27-371dd3ab4ad1"
   },
   "outputs": [
    {
     "data": {
      "text/plain": [
       "Index(['satisfaction', 'Gender', 'Customer Type', 'Age', 'Type of Travel',\n",
       "       'Class', 'Flight Distance', 'Seat comfort',\n",
       "       'Departure/Arrival time convenient', 'Food and drink', 'Gate location',\n",
       "       'Inflight wifi service', 'Inflight entertainment', 'Online support',\n",
       "       'Ease of Online booking', 'On-board service', 'Leg room service',\n",
       "       'Baggage handling', 'Checkin service', 'Cleanliness', 'Online boarding',\n",
       "       'Departure Delay in Minutes', 'Arrival Delay in Minutes'],\n",
       "      dtype='object')"
      ]
     },
     "execution_count": 7,
     "metadata": {},
     "output_type": "execute_result"
    }
   ],
   "source": [
    "df.columns"
   ]
  },
  {
   "cell_type": "code",
   "execution_count": 8,
   "metadata": {
    "colab": {
     "base_uri": "https://localhost:8080/"
    },
    "id": "u9kOTn8Yj1V9",
    "outputId": "54d831a7-b000-4339-a5c9-8dc5c7906104"
   },
   "outputs": [
    {
     "data": {
      "text/plain": [
       "Departure Delay in Minutes\n",
       "0      147\n",
       "1       11\n",
       "4       11\n",
       "2       10\n",
       "16       6\n",
       "      ... \n",
       "123      1\n",
       "125      1\n",
       "126      1\n",
       "127      1\n",
       "76       1\n",
       "Length: 121, dtype: int64"
      ]
     },
     "execution_count": 8,
     "metadata": {},
     "output_type": "execute_result"
    }
   ],
   "source": [
    "df[df['Arrival Delay in Minutes'].isnull()].value_counts('Departure Delay in Minutes')"
   ]
  },
  {
   "cell_type": "code",
   "execution_count": 9,
   "metadata": {
    "colab": {
     "base_uri": "https://localhost:8080/"
    },
    "id": "1ZtRASTrH8FO",
    "outputId": "f9b76083-3394-4745-e783-4fcccb501402"
   },
   "outputs": [
    {
     "data": {
      "text/plain": [
       "satisfaction                           0\n",
       "Gender                                 0\n",
       "Customer Type                          0\n",
       "Age                                    0\n",
       "Type of Travel                         0\n",
       "Class                                  0\n",
       "Flight Distance                        0\n",
       "Seat comfort                           0\n",
       "Departure/Arrival time convenient      0\n",
       "Food and drink                         0\n",
       "Gate location                          0\n",
       "Inflight wifi service                  0\n",
       "Inflight entertainment                 0\n",
       "Online support                         0\n",
       "Ease of Online booking                 0\n",
       "On-board service                       0\n",
       "Leg room service                       0\n",
       "Baggage handling                       0\n",
       "Checkin service                        0\n",
       "Cleanliness                            0\n",
       "Online boarding                        0\n",
       "Departure Delay in Minutes             0\n",
       "Arrival Delay in Minutes             393\n",
       "dtype: int64"
      ]
     },
     "execution_count": 9,
     "metadata": {},
     "output_type": "execute_result"
    }
   ],
   "source": [
    "df.isna().sum()"
   ]
  },
  {
   "cell_type": "code",
   "execution_count": 10,
   "metadata": {
    "colab": {
     "base_uri": "https://localhost:8080/",
     "height": 120
    },
    "id": "utAdH21uK6NT",
    "outputId": "2a6506e1-6b72-4b3e-d889-aea740da371f"
   },
   "outputs": [
    {
     "data": {
      "text/html": [
       "<div>\n",
       "<style scoped>\n",
       "    .dataframe tbody tr th:only-of-type {\n",
       "        vertical-align: middle;\n",
       "    }\n",
       "\n",
       "    .dataframe tbody tr th {\n",
       "        vertical-align: top;\n",
       "    }\n",
       "\n",
       "    .dataframe thead th {\n",
       "        text-align: right;\n",
       "    }\n",
       "</style>\n",
       "<table border=\"1\" class=\"dataframe\">\n",
       "  <thead>\n",
       "    <tr style=\"text-align: right;\">\n",
       "      <th></th>\n",
       "      <th>satisfaction</th>\n",
       "      <th>Gender</th>\n",
       "      <th>Customer Type</th>\n",
       "      <th>Age</th>\n",
       "      <th>Type of Travel</th>\n",
       "      <th>Class</th>\n",
       "      <th>Flight Distance</th>\n",
       "      <th>Seat comfort</th>\n",
       "      <th>Departure/Arrival time convenient</th>\n",
       "      <th>Food and drink</th>\n",
       "      <th>...</th>\n",
       "      <th>Online support</th>\n",
       "      <th>Ease of Online booking</th>\n",
       "      <th>On-board service</th>\n",
       "      <th>Leg room service</th>\n",
       "      <th>Baggage handling</th>\n",
       "      <th>Checkin service</th>\n",
       "      <th>Cleanliness</th>\n",
       "      <th>Online boarding</th>\n",
       "      <th>Departure Delay in Minutes</th>\n",
       "      <th>Arrival Delay in Minutes</th>\n",
       "    </tr>\n",
       "  </thead>\n",
       "  <tbody>\n",
       "  </tbody>\n",
       "</table>\n",
       "<p>0 rows × 23 columns</p>\n",
       "</div>"
      ],
      "text/plain": [
       "Empty DataFrame\n",
       "Columns: [satisfaction, Gender, Customer Type, Age, Type of Travel, Class, Flight Distance, Seat comfort, Departure/Arrival time convenient, Food and drink, Gate location, Inflight wifi service, Inflight entertainment, Online support, Ease of Online booking, On-board service, Leg room service, Baggage handling, Checkin service, Cleanliness, Online boarding, Departure Delay in Minutes, Arrival Delay in Minutes]\n",
       "Index: []\n",
       "\n",
       "[0 rows x 23 columns]"
      ]
     },
     "execution_count": 10,
     "metadata": {},
     "output_type": "execute_result"
    }
   ],
   "source": [
    "df[df.duplicated()]"
   ]
  },
  {
   "cell_type": "code",
   "execution_count": 11,
   "metadata": {
    "colab": {
     "base_uri": "https://localhost:8080/"
    },
    "id": "t8-rctvTyCET",
    "outputId": "92999ea1-05b2-4748-cb03-88ee658de659"
   },
   "outputs": [
    {
     "data": {
      "text/plain": [
       "satisfied       71087\n",
       "dissatisfied    58793\n",
       "Name: satisfaction, dtype: int64"
      ]
     },
     "execution_count": 11,
     "metadata": {},
     "output_type": "execute_result"
    }
   ],
   "source": [
    "df['satisfaction'].value_counts()"
   ]
  },
  {
   "cell_type": "code",
   "execution_count": 12,
   "metadata": {
    "colab": {
     "base_uri": "https://localhost:8080/",
     "height": 176
    },
    "id": "fZ_yeDdhwUtA",
    "outputId": "559899ae-e831-4df0-c30f-e9227095c5c9"
   },
   "outputs": [
    {
     "data": {
      "text/html": [
       "<div>\n",
       "<style scoped>\n",
       "    .dataframe tbody tr th:only-of-type {\n",
       "        vertical-align: middle;\n",
       "    }\n",
       "\n",
       "    .dataframe tbody tr th {\n",
       "        vertical-align: top;\n",
       "    }\n",
       "\n",
       "    .dataframe thead th {\n",
       "        text-align: right;\n",
       "    }\n",
       "</style>\n",
       "<table border=\"1\" class=\"dataframe\">\n",
       "  <thead>\n",
       "    <tr style=\"text-align: right;\">\n",
       "      <th></th>\n",
       "      <th>Baggage handling</th>\n",
       "      <th>Checkin service</th>\n",
       "      <th>Cleanliness</th>\n",
       "      <th>Departure/Arrival time convenient</th>\n",
       "      <th>Ease of Online booking</th>\n",
       "      <th>Food and drink</th>\n",
       "      <th>Gate location</th>\n",
       "      <th>Inflight entertainment</th>\n",
       "      <th>Inflight wifi service</th>\n",
       "      <th>Leg room service</th>\n",
       "      <th>On-board service</th>\n",
       "      <th>Online boarding</th>\n",
       "      <th>Online support</th>\n",
       "      <th>Seat comfort</th>\n",
       "    </tr>\n",
       "    <tr>\n",
       "      <th>satisfaction</th>\n",
       "      <th></th>\n",
       "      <th></th>\n",
       "      <th></th>\n",
       "      <th></th>\n",
       "      <th></th>\n",
       "      <th></th>\n",
       "      <th></th>\n",
       "      <th></th>\n",
       "      <th></th>\n",
       "      <th></th>\n",
       "      <th></th>\n",
       "      <th></th>\n",
       "      <th></th>\n",
       "      <th></th>\n",
       "    </tr>\n",
       "  </thead>\n",
       "  <tbody>\n",
       "    <tr>\n",
       "      <th>dissatisfied</th>\n",
       "      <td>197815</td>\n",
       "      <td>174724</td>\n",
       "      <td>198563</td>\n",
       "      <td>177360</td>\n",
       "      <td>167693</td>\n",
       "      <td>156414</td>\n",
       "      <td>176835</td>\n",
       "      <td>153370</td>\n",
       "      <td>171667</td>\n",
       "      <td>179473</td>\n",
       "      <td>174799</td>\n",
       "      <td>168718</td>\n",
       "      <td>173981</td>\n",
       "      <td>145062</td>\n",
       "    </tr>\n",
       "    <tr>\n",
       "      <th>satisfied</th>\n",
       "      <td>282179</td>\n",
       "      <td>259180</td>\n",
       "      <td>282741</td>\n",
       "      <td>211065</td>\n",
       "      <td>283264</td>\n",
       "      <td>214003</td>\n",
       "      <td>211561</td>\n",
       "      <td>286076</td>\n",
       "      <td>250330</td>\n",
       "      <td>273276</td>\n",
       "      <td>275245</td>\n",
       "      <td>266716</td>\n",
       "      <td>283158</td>\n",
       "      <td>223615</td>\n",
       "    </tr>\n",
       "  </tbody>\n",
       "</table>\n",
       "</div>"
      ],
      "text/plain": [
       "              Baggage handling  Checkin service  Cleanliness  \\\n",
       "satisfaction                                                   \n",
       "dissatisfied            197815           174724       198563   \n",
       "satisfied               282179           259180       282741   \n",
       "\n",
       "              Departure/Arrival time convenient  Ease of Online booking  \\\n",
       "satisfaction                                                              \n",
       "dissatisfied                             177360                  167693   \n",
       "satisfied                                211065                  283264   \n",
       "\n",
       "              Food and drink  Gate location  Inflight entertainment  \\\n",
       "satisfaction                                                          \n",
       "dissatisfied          156414         176835                  153370   \n",
       "satisfied             214003         211561                  286076   \n",
       "\n",
       "              Inflight wifi service  Leg room service  On-board service  \\\n",
       "satisfaction                                                              \n",
       "dissatisfied                 171667            179473            174799   \n",
       "satisfied                    250330            273276            275245   \n",
       "\n",
       "              Online boarding  Online support  Seat comfort  \n",
       "satisfaction                                                 \n",
       "dissatisfied           168718          173981        145062  \n",
       "satisfied              266716          283158        223615  "
      ]
     },
     "execution_count": 12,
     "metadata": {},
     "output_type": "execute_result"
    }
   ],
   "source": [
    "pd.pivot_table(df, index=['satisfaction'],values=['Seat comfort','Departure/Arrival time convenient', 'Food and drink', 'Gate location','Inflight wifi service', 'Inflight entertainment', 'Online support','Ease of Online booking', 'On-board service', 'Leg room service',\n",
    "       'Baggage handling', 'Checkin service', 'Cleanliness', 'Online boarding'],  aggfunc=np.sum)"
   ]
  },
  {
   "cell_type": "code",
   "execution_count": 13,
   "metadata": {
    "colab": {
     "base_uri": "https://localhost:8080/",
     "height": 351
    },
    "id": "KOqtRqe24lGl",
    "outputId": "da001061-de84-4d2c-9177-e66691525af7"
   },
   "outputs": [
    {
     "data": {
      "text/html": [
       "<div>\n",
       "<style scoped>\n",
       "    .dataframe tbody tr th:only-of-type {\n",
       "        vertical-align: middle;\n",
       "    }\n",
       "\n",
       "    .dataframe tbody tr th {\n",
       "        vertical-align: top;\n",
       "    }\n",
       "\n",
       "    .dataframe thead th {\n",
       "        text-align: right;\n",
       "    }\n",
       "</style>\n",
       "<table border=\"1\" class=\"dataframe\">\n",
       "  <thead>\n",
       "    <tr style=\"text-align: right;\">\n",
       "      <th></th>\n",
       "      <th>Age</th>\n",
       "      <th>Flight Distance</th>\n",
       "      <th>Seat comfort</th>\n",
       "      <th>Departure/Arrival time convenient</th>\n",
       "      <th>Food and drink</th>\n",
       "      <th>Gate location</th>\n",
       "      <th>Inflight wifi service</th>\n",
       "      <th>Inflight entertainment</th>\n",
       "      <th>Online support</th>\n",
       "      <th>Ease of Online booking</th>\n",
       "      <th>On-board service</th>\n",
       "      <th>Leg room service</th>\n",
       "      <th>Baggage handling</th>\n",
       "      <th>Checkin service</th>\n",
       "      <th>Cleanliness</th>\n",
       "      <th>Online boarding</th>\n",
       "      <th>Departure Delay in Minutes</th>\n",
       "      <th>Arrival Delay in Minutes</th>\n",
       "    </tr>\n",
       "  </thead>\n",
       "  <tbody>\n",
       "    <tr>\n",
       "      <th>count</th>\n",
       "      <td>129880.000000</td>\n",
       "      <td>129880.000000</td>\n",
       "      <td>129880.000000</td>\n",
       "      <td>129880.000000</td>\n",
       "      <td>129880.000000</td>\n",
       "      <td>129880.000000</td>\n",
       "      <td>129880.000000</td>\n",
       "      <td>129880.000000</td>\n",
       "      <td>129880.000000</td>\n",
       "      <td>129880.000000</td>\n",
       "      <td>129880.000000</td>\n",
       "      <td>129880.000000</td>\n",
       "      <td>129880.000000</td>\n",
       "      <td>129880.000000</td>\n",
       "      <td>129880.000000</td>\n",
       "      <td>129880.000000</td>\n",
       "      <td>129880.000000</td>\n",
       "      <td>129487.000000</td>\n",
       "    </tr>\n",
       "    <tr>\n",
       "      <th>mean</th>\n",
       "      <td>39.427957</td>\n",
       "      <td>1981.409055</td>\n",
       "      <td>2.838597</td>\n",
       "      <td>2.990645</td>\n",
       "      <td>2.851994</td>\n",
       "      <td>2.990422</td>\n",
       "      <td>3.249130</td>\n",
       "      <td>3.383477</td>\n",
       "      <td>3.519703</td>\n",
       "      <td>3.472105</td>\n",
       "      <td>3.465075</td>\n",
       "      <td>3.485902</td>\n",
       "      <td>3.695673</td>\n",
       "      <td>3.340807</td>\n",
       "      <td>3.705759</td>\n",
       "      <td>3.352587</td>\n",
       "      <td>14.713713</td>\n",
       "      <td>15.091129</td>\n",
       "    </tr>\n",
       "    <tr>\n",
       "      <th>std</th>\n",
       "      <td>15.119360</td>\n",
       "      <td>1027.115606</td>\n",
       "      <td>1.392983</td>\n",
       "      <td>1.527224</td>\n",
       "      <td>1.443729</td>\n",
       "      <td>1.305970</td>\n",
       "      <td>1.318818</td>\n",
       "      <td>1.346059</td>\n",
       "      <td>1.306511</td>\n",
       "      <td>1.305560</td>\n",
       "      <td>1.270836</td>\n",
       "      <td>1.292226</td>\n",
       "      <td>1.156483</td>\n",
       "      <td>1.260582</td>\n",
       "      <td>1.151774</td>\n",
       "      <td>1.298715</td>\n",
       "      <td>38.071126</td>\n",
       "      <td>38.465650</td>\n",
       "    </tr>\n",
       "    <tr>\n",
       "      <th>min</th>\n",
       "      <td>7.000000</td>\n",
       "      <td>50.000000</td>\n",
       "      <td>0.000000</td>\n",
       "      <td>0.000000</td>\n",
       "      <td>0.000000</td>\n",
       "      <td>0.000000</td>\n",
       "      <td>0.000000</td>\n",
       "      <td>0.000000</td>\n",
       "      <td>0.000000</td>\n",
       "      <td>0.000000</td>\n",
       "      <td>0.000000</td>\n",
       "      <td>0.000000</td>\n",
       "      <td>1.000000</td>\n",
       "      <td>0.000000</td>\n",
       "      <td>0.000000</td>\n",
       "      <td>0.000000</td>\n",
       "      <td>0.000000</td>\n",
       "      <td>0.000000</td>\n",
       "    </tr>\n",
       "    <tr>\n",
       "      <th>25%</th>\n",
       "      <td>27.000000</td>\n",
       "      <td>1359.000000</td>\n",
       "      <td>2.000000</td>\n",
       "      <td>2.000000</td>\n",
       "      <td>2.000000</td>\n",
       "      <td>2.000000</td>\n",
       "      <td>2.000000</td>\n",
       "      <td>2.000000</td>\n",
       "      <td>3.000000</td>\n",
       "      <td>2.000000</td>\n",
       "      <td>3.000000</td>\n",
       "      <td>2.000000</td>\n",
       "      <td>3.000000</td>\n",
       "      <td>3.000000</td>\n",
       "      <td>3.000000</td>\n",
       "      <td>2.000000</td>\n",
       "      <td>0.000000</td>\n",
       "      <td>0.000000</td>\n",
       "    </tr>\n",
       "    <tr>\n",
       "      <th>50%</th>\n",
       "      <td>40.000000</td>\n",
       "      <td>1925.000000</td>\n",
       "      <td>3.000000</td>\n",
       "      <td>3.000000</td>\n",
       "      <td>3.000000</td>\n",
       "      <td>3.000000</td>\n",
       "      <td>3.000000</td>\n",
       "      <td>4.000000</td>\n",
       "      <td>4.000000</td>\n",
       "      <td>4.000000</td>\n",
       "      <td>4.000000</td>\n",
       "      <td>4.000000</td>\n",
       "      <td>4.000000</td>\n",
       "      <td>3.000000</td>\n",
       "      <td>4.000000</td>\n",
       "      <td>4.000000</td>\n",
       "      <td>0.000000</td>\n",
       "      <td>0.000000</td>\n",
       "    </tr>\n",
       "    <tr>\n",
       "      <th>75%</th>\n",
       "      <td>51.000000</td>\n",
       "      <td>2544.000000</td>\n",
       "      <td>4.000000</td>\n",
       "      <td>4.000000</td>\n",
       "      <td>4.000000</td>\n",
       "      <td>4.000000</td>\n",
       "      <td>4.000000</td>\n",
       "      <td>4.000000</td>\n",
       "      <td>5.000000</td>\n",
       "      <td>5.000000</td>\n",
       "      <td>4.000000</td>\n",
       "      <td>5.000000</td>\n",
       "      <td>5.000000</td>\n",
       "      <td>4.000000</td>\n",
       "      <td>5.000000</td>\n",
       "      <td>4.000000</td>\n",
       "      <td>12.000000</td>\n",
       "      <td>13.000000</td>\n",
       "    </tr>\n",
       "    <tr>\n",
       "      <th>max</th>\n",
       "      <td>85.000000</td>\n",
       "      <td>6951.000000</td>\n",
       "      <td>5.000000</td>\n",
       "      <td>5.000000</td>\n",
       "      <td>5.000000</td>\n",
       "      <td>5.000000</td>\n",
       "      <td>5.000000</td>\n",
       "      <td>5.000000</td>\n",
       "      <td>5.000000</td>\n",
       "      <td>5.000000</td>\n",
       "      <td>5.000000</td>\n",
       "      <td>5.000000</td>\n",
       "      <td>5.000000</td>\n",
       "      <td>5.000000</td>\n",
       "      <td>5.000000</td>\n",
       "      <td>5.000000</td>\n",
       "      <td>1592.000000</td>\n",
       "      <td>1584.000000</td>\n",
       "    </tr>\n",
       "  </tbody>\n",
       "</table>\n",
       "</div>"
      ],
      "text/plain": [
       "                 Age  Flight Distance   Seat comfort  \\\n",
       "count  129880.000000    129880.000000  129880.000000   \n",
       "mean       39.427957      1981.409055       2.838597   \n",
       "std        15.119360      1027.115606       1.392983   \n",
       "min         7.000000        50.000000       0.000000   \n",
       "25%        27.000000      1359.000000       2.000000   \n",
       "50%        40.000000      1925.000000       3.000000   \n",
       "75%        51.000000      2544.000000       4.000000   \n",
       "max        85.000000      6951.000000       5.000000   \n",
       "\n",
       "       Departure/Arrival time convenient  Food and drink  Gate location  \\\n",
       "count                      129880.000000   129880.000000  129880.000000   \n",
       "mean                            2.990645        2.851994       2.990422   \n",
       "std                             1.527224        1.443729       1.305970   \n",
       "min                             0.000000        0.000000       0.000000   \n",
       "25%                             2.000000        2.000000       2.000000   \n",
       "50%                             3.000000        3.000000       3.000000   \n",
       "75%                             4.000000        4.000000       4.000000   \n",
       "max                             5.000000        5.000000       5.000000   \n",
       "\n",
       "       Inflight wifi service  Inflight entertainment  Online support  \\\n",
       "count          129880.000000           129880.000000   129880.000000   \n",
       "mean                3.249130                3.383477        3.519703   \n",
       "std                 1.318818                1.346059        1.306511   \n",
       "min                 0.000000                0.000000        0.000000   \n",
       "25%                 2.000000                2.000000        3.000000   \n",
       "50%                 3.000000                4.000000        4.000000   \n",
       "75%                 4.000000                4.000000        5.000000   \n",
       "max                 5.000000                5.000000        5.000000   \n",
       "\n",
       "       Ease of Online booking  On-board service  Leg room service  \\\n",
       "count           129880.000000     129880.000000     129880.000000   \n",
       "mean                 3.472105          3.465075          3.485902   \n",
       "std                  1.305560          1.270836          1.292226   \n",
       "min                  0.000000          0.000000          0.000000   \n",
       "25%                  2.000000          3.000000          2.000000   \n",
       "50%                  4.000000          4.000000          4.000000   \n",
       "75%                  5.000000          4.000000          5.000000   \n",
       "max                  5.000000          5.000000          5.000000   \n",
       "\n",
       "       Baggage handling  Checkin service    Cleanliness  Online boarding  \\\n",
       "count     129880.000000    129880.000000  129880.000000    129880.000000   \n",
       "mean           3.695673         3.340807       3.705759         3.352587   \n",
       "std            1.156483         1.260582       1.151774         1.298715   \n",
       "min            1.000000         0.000000       0.000000         0.000000   \n",
       "25%            3.000000         3.000000       3.000000         2.000000   \n",
       "50%            4.000000         3.000000       4.000000         4.000000   \n",
       "75%            5.000000         4.000000       5.000000         4.000000   \n",
       "max            5.000000         5.000000       5.000000         5.000000   \n",
       "\n",
       "       Departure Delay in Minutes  Arrival Delay in Minutes  \n",
       "count               129880.000000             129487.000000  \n",
       "mean                    14.713713                 15.091129  \n",
       "std                     38.071126                 38.465650  \n",
       "min                      0.000000                  0.000000  \n",
       "25%                      0.000000                  0.000000  \n",
       "50%                      0.000000                  0.000000  \n",
       "75%                     12.000000                 13.000000  \n",
       "max                   1592.000000               1584.000000  "
      ]
     },
     "execution_count": 13,
     "metadata": {},
     "output_type": "execute_result"
    }
   ],
   "source": [
    "df.describe()"
   ]
  },
  {
   "cell_type": "code",
   "execution_count": 16,
   "metadata": {
    "colab": {
     "base_uri": "https://localhost:8080/",
     "height": 1000
    },
    "id": "Tq8sb4yWGtr7",
    "outputId": "6d071fc3-aae0-49b0-adf6-79dd7b2f17ee"
   },
   "outputs": [
    {
     "data": {
      "image/png": "[encoded data removed]",
      "text/plain": [
       "<Figure size 1080x1080 with 2 Axes>"
      ]
     },
     "metadata": {
      "needs_background": "light"
     },
     "output_type": "display_data"
    }
   ],
   "source": [
    "%matplotlib inline\n",
    "plt.subplots(figsize=(15,15)) \n",
    "sns.heatmap(df.corr(), annot = True, fmt = \".2f\")\n",
    "plt.show()\n"
   ]
  },
  {
   "cell_type": "markdown",
   "metadata": {
    "id": "XQk9UeQlmrqC"
   },
   "source": [
    "Dropping the Arival Delay column because due to concerns of colinearity with the departure delay column and due to the arrival delay containing all of out na values"
   ]
  },
  {
   "cell_type": "code",
   "execution_count": 17,
   "metadata": {
    "id": "deM4kIL9mZBu"
   },
   "outputs": [],
   "source": [
    "df = df.drop('Arrival Delay in Minutes', axis=1)"
   ]
  },
  {
   "cell_type": "code",
   "execution_count": 18,
   "metadata": {
    "colab": {
     "base_uri": "https://localhost:8080/",
     "height": 1000
    },
    "id": "EQm0oqBRnEWA",
    "outputId": "bdc6f44e-49c6-4ab0-811d-99b8487475a7"
   },
   "outputs": [
    {
     "data": {
      "image/png": "[encoded data removed]",
      "text/plain": [
       "<Figure size 1080x1080 with 2 Axes>"
      ]
     },
     "metadata": {
      "needs_background": "light"
     },
     "output_type": "display_data"
    }
   ],
   "source": [
    "plt.subplots(figsize=(15,15)) \n",
    "sns.heatmap(df.corr(), annot = True, fmt = \".2f\")\n",
    "plt.show()"
   ]
  },
  {
   "cell_type": "code",
   "execution_count": 19,
   "metadata": {
    "colab": {
     "base_uri": "https://localhost:8080/",
     "height": 296
    },
    "id": "Uppv1OeaHs09",
    "outputId": "92ae0830-94a9-47c2-c552-b5ec76d6dd89"
   },
   "outputs": [
    {
     "data": {
      "text/plain": [
       "<AxesSubplot:xlabel='satisfaction', ylabel='count'>"
      ]
     },
     "execution_count": 19,
     "metadata": {},
     "output_type": "execute_result"
    },
    {
     "data": {
      "image/png": "[encoded data removed]",
      "text/plain": [
       "<Figure size 432x288 with 1 Axes>"
      ]
     },
     "metadata": {
      "needs_background": "light"
     },
     "output_type": "display_data"
    }
   ],
   "source": [
    "sns.countplot(x = df['satisfaction'])"
   ]
  },
  {
   "cell_type": "markdown",
   "metadata": {
    "id": "QaB4JLV68M2e"
   },
   "source": [
    "Relationship between Variables\n",
    "\n",
    "\n"
   ]
  },
  {
   "cell_type": "code",
   "execution_count": 20,
   "metadata": {
    "colab": {
     "base_uri": "https://localhost:8080/",
     "height": 714
    },
    "id": "g1QFmOnlurJg",
    "outputId": "7637c895-8448-4c99-aae9-9516ba00032b"
   },
   "outputs": [
    {
     "data": {
      "image/png": "[encoded data removed]",
      "text/plain": [
       "<Figure size 864x864 with 4 Axes>"
      ]
     },
     "metadata": {
      "needs_background": "light"
     },
     "output_type": "display_data"
    }
   ],
   "source": [
    "list=['Gender', 'Customer Type','Type of Travel','Class']\n",
    "count=0\n",
    "fig,axes = plt.subplots(2,2,figsize=(12, 12))\n",
    "for i in range(2):\n",
    "  for j in range(2):\n",
    "    sns.countplot(data=df,x=list[count],hue='satisfaction',ax=axes[i][j])\n",
    "    count+=1"
   ]
  },
  {
   "cell_type": "code",
   "execution_count": 21,
   "metadata": {
    "colab": {
     "base_uri": "https://localhost:8080/",
     "height": 823
    },
    "id": "vVBVQ5Lcs_W5",
    "outputId": "caea1202-f343-4ec8-eb7b-1f3714e6f87d"
   },
   "outputs": [
    {
     "data": {
      "image/png": "[encoded data removed]",
      "text/plain": [
       "<Figure size 1008x1008 with 12 Axes>"
      ]
     },
     "metadata": {
      "needs_background": "light"
     },
     "output_type": "display_data"
    }
   ],
   "source": [
    "col=['Seat comfort',\n",
    "       'Departure/Arrival time convenient', 'Food and drink', 'Gate location',\n",
    "       'Inflight wifi service', 'Inflight entertainment', 'Online support',\n",
    "       'Ease of Online booking', 'On-board service', 'Leg room service',\n",
    "       'Baggage handling', 'Checkin service', 'Cleanliness', 'Online boarding']\n",
    "count=0\n",
    "fig,axes = plt.subplots(4,3,figsize=(14, 14))\n",
    "for i in range(4):\n",
    "  for j in range(3):\n",
    "    sns.countplot(data=df,x=col[count],hue='satisfaction',ax=axes[i][j])\n",
    "    count+=1"
   ]
  },
  {
   "cell_type": "code",
   "execution_count": 22,
   "metadata": {
    "colab": {
     "base_uri": "https://localhost:8080/",
     "height": 400
    },
    "id": "Kcfvkht9l6yg",
    "outputId": "2d5bdac2-739c-4393-e6ab-e441bfe0b70c"
   },
   "outputs": [
    {
     "data": {
      "text/plain": [
       "<seaborn.axisgrid.FacetGrid at 0x7fd320a32370>"
      ]
     },
     "execution_count": 22,
     "metadata": {},
     "output_type": "execute_result"
    },
    {
     "data": {
      "image/png": "[encoded data removed]",
      "text/plain": [
       "<Figure size 360x360 with 1 Axes>"
      ]
     },
     "metadata": {
      "needs_background": "light"
     },
     "output_type": "display_data"
    }
   ],
   "source": [
    "sns.catplot(x='satisfaction',y='Age',data=df,hue='satisfaction',kind='box')"
   ]
  },
  {
   "cell_type": "code",
   "execution_count": 23,
   "metadata": {
    "colab": {
     "base_uri": "https://localhost:8080/",
     "height": 400
    },
    "id": "W3qBD2pb3let",
    "outputId": "ee9a2abe-bc7e-4f3b-9916-64f3d06eb483"
   },
   "outputs": [
    {
     "data": {
      "text/plain": [
       "<seaborn.axisgrid.FacetGrid at 0x7fd313c75670>"
      ]
     },
     "execution_count": 23,
     "metadata": {},
     "output_type": "execute_result"
    },
    {
     "data": {
      "image/png": "[encoded data removed]",
      "text/plain": [
       "<Figure size 360x360 with 1 Axes>"
      ]
     },
     "metadata": {
      "needs_background": "light"
     },
     "output_type": "display_data"
    }
   ],
   "source": [
    "sns.catplot(x='satisfaction',y='Flight Distance',hue='satisfaction',data=df,kind='box')"
   ]
  },
  {
   "cell_type": "markdown",
   "metadata": {},
   "source": [
    "In this boxplot, the ourliers seem to be international flights and some domestic flights, we decided not to drop the ourliers."
   ]
  },
  {
   "cell_type": "code",
   "execution_count": 24,
   "metadata": {
    "colab": {
     "base_uri": "https://localhost:8080/",
     "height": 400
    },
    "id": "owgIU7FOpUqB",
    "outputId": "375821b4-77c1-4a15-9a49-0d60a5617b35"
   },
   "outputs": [
    {
     "data": {
      "text/plain": [
       "<seaborn.axisgrid.FacetGrid at 0x7fd313dcaa00>"
      ]
     },
     "execution_count": 24,
     "metadata": {},
     "output_type": "execute_result"
    },
    {
     "data": {
      "image/png": "[encoded data removed]",
      "text/plain": [
       "<Figure size 360x360 with 1 Axes>"
      ]
     },
     "metadata": {
      "needs_background": "light"
     },
     "output_type": "display_data"
    }
   ],
   "source": [
    "sns.catplot(x='satisfaction',y='Departure Delay in Minutes',data=df,hue='satisfaction')"
   ]
  },
  {
   "cell_type": "markdown",
   "metadata": {
    "id": "NjvALsu3Sj7O"
   },
   "source": [
    "# Baseline Model *Fitting*"
   ]
  },
  {
   "cell_type": "markdown",
   "metadata": {
    "id": "nXlqfiAMS1VD"
   },
   "source": [
    "### Data Partitioning"
   ]
  },
  {
   "cell_type": "code",
   "execution_count": 25,
   "metadata": {
    "colab": {
     "base_uri": "https://localhost:8080/"
    },
    "id": "vI-tBtkoRo_R",
    "outputId": "5be0f311-11be-477d-d7f0-c18db4683db5"
   },
   "outputs": [
    {
     "data": {
      "text/plain": [
       "Index(['satisfaction', 'Gender', 'Customer Type', 'Age', 'Type of Travel',\n",
       "       'Class', 'Flight Distance', 'Seat comfort',\n",
       "       'Departure/Arrival time convenient', 'Food and drink', 'Gate location',\n",
       "       'Inflight wifi service', 'Inflight entertainment', 'Online support',\n",
       "       'Ease of Online booking', 'On-board service', 'Leg room service',\n",
       "       'Baggage handling', 'Checkin service', 'Cleanliness', 'Online boarding',\n",
       "       'Departure Delay in Minutes'],\n",
       "      dtype='object')"
      ]
     },
     "execution_count": 25,
     "metadata": {},
     "output_type": "execute_result"
    }
   ],
   "source": [
    "df.columns"
   ]
  },
  {
   "cell_type": "code",
   "execution_count": 26,
   "metadata": {
    "colab": {
     "base_uri": "https://localhost:8080/"
    },
    "id": "FkLTkmj8hZ5N",
    "outputId": "4feca49a-2aa7-4c43-ff23-64c9670ada50"
   },
   "outputs": [
    {
     "data": {
      "text/plain": [
       "satisfaction                         0\n",
       "Gender                               0\n",
       "Customer Type                        0\n",
       "Age                                  0\n",
       "Type of Travel                       0\n",
       "Class                                0\n",
       "Flight Distance                      0\n",
       "Seat comfort                         0\n",
       "Departure/Arrival time convenient    0\n",
       "Food and drink                       0\n",
       "Gate location                        0\n",
       "Inflight wifi service                0\n",
       "Inflight entertainment               0\n",
       "Online support                       0\n",
       "Ease of Online booking               0\n",
       "On-board service                     0\n",
       "Leg room service                     0\n",
       "Baggage handling                     0\n",
       "Checkin service                      0\n",
       "Cleanliness                          0\n",
       "Online boarding                      0\n",
       "Departure Delay in Minutes           0\n",
       "dtype: int64"
      ]
     },
     "execution_count": 26,
     "metadata": {},
     "output_type": "execute_result"
    }
   ],
   "source": [
    "df.isnull().sum()"
   ]
  },
  {
   "cell_type": "code",
   "execution_count": 27,
   "metadata": {
    "id": "sW_6IanWjYwY"
   },
   "outputs": [],
   "source": [
    "df = pd.get_dummies(df, columns=['Gender', 'Customer Type', 'Type of Travel', 'Class', 'satisfaction'], drop_first = True)"
   ]
  },
  {
   "cell_type": "code",
   "execution_count": 28,
   "metadata": {
    "colab": {
     "base_uri": "https://localhost:8080/"
    },
    "id": "Yj_MHUkkkhqO",
    "outputId": "a72d4d22-dd96-4d51-db0c-8a39883b9dd2"
   },
   "outputs": [
    {
     "data": {
      "text/plain": [
       "Index(['Age', 'Flight Distance', 'Seat comfort',\n",
       "       'Departure/Arrival time convenient', 'Food and drink', 'Gate location',\n",
       "       'Inflight wifi service', 'Inflight entertainment', 'Online support',\n",
       "       'Ease of Online booking', 'On-board service', 'Leg room service',\n",
       "       'Baggage handling', 'Checkin service', 'Cleanliness', 'Online boarding',\n",
       "       'Departure Delay in Minutes', 'Gender_Male',\n",
       "       'Customer Type_disloyal Customer', 'Type of Travel_Personal Travel',\n",
       "       'Class_Eco', 'Class_Eco Plus', 'satisfaction_satisfied'],\n",
       "      dtype='object')"
      ]
     },
     "execution_count": 28,
     "metadata": {},
     "output_type": "execute_result"
    }
   ],
   "source": [
    "df.columns"
   ]
  },
  {
   "cell_type": "code",
   "execution_count": 29,
   "metadata": {
    "id": "S6LpmdkMRX4z"
   },
   "outputs": [],
   "source": [
    "predictors = ['Age', 'Flight Distance', 'Seat comfort',\n",
    "       'Departure/Arrival time convenient', 'Food and drink', 'Gate location',\n",
    "       'Inflight wifi service', 'Inflight entertainment', 'Online support',\n",
    "       'Ease of Online booking', 'On-board service', 'Leg room service',\n",
    "       'Baggage handling', 'Checkin service', 'Cleanliness', 'Online boarding',\n",
    "       'Departure Delay in Minutes', 'Gender_Male',\n",
    "       'Customer Type_disloyal Customer', 'Type of Travel_Personal Travel',\n",
    "       'Class_Eco', 'Class_Eco Plus']\n",
    "outcome = 'satisfaction_satisfied' # target variable"
   ]
  },
  {
   "cell_type": "markdown",
   "metadata": {
    "id": "xVmI9rRpTe_K"
   },
   "source": [
    "Defining X and Y"
   ]
  },
  {
   "cell_type": "code",
   "execution_count": 30,
   "metadata": {
    "id": "YcJNUauQTkm8"
   },
   "outputs": [],
   "source": [
    "X = df[predictors]\n",
    "y = df[outcome]"
   ]
  },
  {
   "cell_type": "code",
   "execution_count": 31,
   "metadata": {
    "colab": {
     "base_uri": "https://localhost:8080/",
     "height": 258
    },
    "id": "YG_XUEo3ge0b",
    "outputId": "e99649f2-34d1-4fa1-d24b-987ca2c63f34"
   },
   "outputs": [
    {
     "data": {
      "text/html": [
       "<div>\n",
       "<style scoped>\n",
       "    .dataframe tbody tr th:only-of-type {\n",
       "        vertical-align: middle;\n",
       "    }\n",
       "\n",
       "    .dataframe tbody tr th {\n",
       "        vertical-align: top;\n",
       "    }\n",
       "\n",
       "    .dataframe thead th {\n",
       "        text-align: right;\n",
       "    }\n",
       "</style>\n",
       "<table border=\"1\" class=\"dataframe\">\n",
       "  <thead>\n",
       "    <tr style=\"text-align: right;\">\n",
       "      <th></th>\n",
       "      <th>Age</th>\n",
       "      <th>Flight Distance</th>\n",
       "      <th>Seat comfort</th>\n",
       "      <th>Departure/Arrival time convenient</th>\n",
       "      <th>Food and drink</th>\n",
       "      <th>Gate location</th>\n",
       "      <th>Inflight wifi service</th>\n",
       "      <th>Inflight entertainment</th>\n",
       "      <th>Online support</th>\n",
       "      <th>Ease of Online booking</th>\n",
       "      <th>...</th>\n",
       "      <th>Baggage handling</th>\n",
       "      <th>Checkin service</th>\n",
       "      <th>Cleanliness</th>\n",
       "      <th>Online boarding</th>\n",
       "      <th>Departure Delay in Minutes</th>\n",
       "      <th>Gender_Male</th>\n",
       "      <th>Customer Type_disloyal Customer</th>\n",
       "      <th>Type of Travel_Personal Travel</th>\n",
       "      <th>Class_Eco</th>\n",
       "      <th>Class_Eco Plus</th>\n",
       "    </tr>\n",
       "  </thead>\n",
       "  <tbody>\n",
       "    <tr>\n",
       "      <th>0</th>\n",
       "      <td>65</td>\n",
       "      <td>265</td>\n",
       "      <td>0</td>\n",
       "      <td>0</td>\n",
       "      <td>0</td>\n",
       "      <td>2</td>\n",
       "      <td>2</td>\n",
       "      <td>4</td>\n",
       "      <td>2</td>\n",
       "      <td>3</td>\n",
       "      <td>...</td>\n",
       "      <td>3</td>\n",
       "      <td>5</td>\n",
       "      <td>3</td>\n",
       "      <td>2</td>\n",
       "      <td>0</td>\n",
       "      <td>0</td>\n",
       "      <td>0</td>\n",
       "      <td>1</td>\n",
       "      <td>1</td>\n",
       "      <td>0</td>\n",
       "    </tr>\n",
       "    <tr>\n",
       "      <th>1</th>\n",
       "      <td>47</td>\n",
       "      <td>2464</td>\n",
       "      <td>0</td>\n",
       "      <td>0</td>\n",
       "      <td>0</td>\n",
       "      <td>3</td>\n",
       "      <td>0</td>\n",
       "      <td>2</td>\n",
       "      <td>2</td>\n",
       "      <td>3</td>\n",
       "      <td>...</td>\n",
       "      <td>4</td>\n",
       "      <td>2</td>\n",
       "      <td>3</td>\n",
       "      <td>2</td>\n",
       "      <td>310</td>\n",
       "      <td>1</td>\n",
       "      <td>0</td>\n",
       "      <td>1</td>\n",
       "      <td>0</td>\n",
       "      <td>0</td>\n",
       "    </tr>\n",
       "    <tr>\n",
       "      <th>2</th>\n",
       "      <td>15</td>\n",
       "      <td>2138</td>\n",
       "      <td>0</td>\n",
       "      <td>0</td>\n",
       "      <td>0</td>\n",
       "      <td>3</td>\n",
       "      <td>2</td>\n",
       "      <td>0</td>\n",
       "      <td>2</td>\n",
       "      <td>2</td>\n",
       "      <td>...</td>\n",
       "      <td>4</td>\n",
       "      <td>4</td>\n",
       "      <td>4</td>\n",
       "      <td>2</td>\n",
       "      <td>0</td>\n",
       "      <td>0</td>\n",
       "      <td>0</td>\n",
       "      <td>1</td>\n",
       "      <td>1</td>\n",
       "      <td>0</td>\n",
       "    </tr>\n",
       "    <tr>\n",
       "      <th>3</th>\n",
       "      <td>60</td>\n",
       "      <td>623</td>\n",
       "      <td>0</td>\n",
       "      <td>0</td>\n",
       "      <td>0</td>\n",
       "      <td>3</td>\n",
       "      <td>3</td>\n",
       "      <td>4</td>\n",
       "      <td>3</td>\n",
       "      <td>1</td>\n",
       "      <td>...</td>\n",
       "      <td>1</td>\n",
       "      <td>4</td>\n",
       "      <td>1</td>\n",
       "      <td>3</td>\n",
       "      <td>0</td>\n",
       "      <td>0</td>\n",
       "      <td>0</td>\n",
       "      <td>1</td>\n",
       "      <td>1</td>\n",
       "      <td>0</td>\n",
       "    </tr>\n",
       "    <tr>\n",
       "      <th>4</th>\n",
       "      <td>70</td>\n",
       "      <td>354</td>\n",
       "      <td>0</td>\n",
       "      <td>0</td>\n",
       "      <td>0</td>\n",
       "      <td>3</td>\n",
       "      <td>4</td>\n",
       "      <td>3</td>\n",
       "      <td>4</td>\n",
       "      <td>2</td>\n",
       "      <td>...</td>\n",
       "      <td>2</td>\n",
       "      <td>4</td>\n",
       "      <td>2</td>\n",
       "      <td>5</td>\n",
       "      <td>0</td>\n",
       "      <td>0</td>\n",
       "      <td>0</td>\n",
       "      <td>1</td>\n",
       "      <td>1</td>\n",
       "      <td>0</td>\n",
       "    </tr>\n",
       "  </tbody>\n",
       "</table>\n",
       "<p>5 rows × 22 columns</p>\n",
       "</div>"
      ],
      "text/plain": [
       "   Age  Flight Distance  Seat comfort  Departure/Arrival time convenient  \\\n",
       "0   65              265             0                                  0   \n",
       "1   47             2464             0                                  0   \n",
       "2   15             2138             0                                  0   \n",
       "3   60              623             0                                  0   \n",
       "4   70              354             0                                  0   \n",
       "\n",
       "   Food and drink  Gate location  Inflight wifi service  \\\n",
       "0               0              2                      2   \n",
       "1               0              3                      0   \n",
       "2               0              3                      2   \n",
       "3               0              3                      3   \n",
       "4               0              3                      4   \n",
       "\n",
       "   Inflight entertainment  Online support  Ease of Online booking  ...  \\\n",
       "0                       4               2                       3  ...   \n",
       "1                       2               2                       3  ...   \n",
       "2                       0               2                       2  ...   \n",
       "3                       4               3                       1  ...   \n",
       "4                       3               4                       2  ...   \n",
       "\n",
       "   Baggage handling  Checkin service  Cleanliness  Online boarding  \\\n",
       "0                 3                5            3                2   \n",
       "1                 4                2            3                2   \n",
       "2                 4                4            4                2   \n",
       "3                 1                4            1                3   \n",
       "4                 2                4            2                5   \n",
       "\n",
       "   Departure Delay in Minutes  Gender_Male  Customer Type_disloyal Customer  \\\n",
       "0                           0            0                                0   \n",
       "1                         310            1                                0   \n",
       "2                           0            0                                0   \n",
       "3                           0            0                                0   \n",
       "4                           0            0                                0   \n",
       "\n",
       "   Type of Travel_Personal Travel  Class_Eco  Class_Eco Plus  \n",
       "0                               1          1               0  \n",
       "1                               1          0               0  \n",
       "2                               1          1               0  \n",
       "3                               1          1               0  \n",
       "4                               1          1               0  \n",
       "\n",
       "[5 rows x 22 columns]"
      ]
     },
     "execution_count": 31,
     "metadata": {},
     "output_type": "execute_result"
    }
   ],
   "source": [
    "X.head()"
   ]
  },
  {
   "cell_type": "code",
   "execution_count": 32,
   "metadata": {
    "colab": {
     "base_uri": "https://localhost:8080/"
    },
    "id": "0TjNyog0Q6aY",
    "outputId": "5090c971-2653-4259-f759-e0dea0246a68"
   },
   "outputs": [
    {
     "name": "stdout",
     "output_type": "stream",
     "text": [
      "Train set: (90916, 22) (90916,)\n",
      "Test set: (38964, 22) (38964,)\n"
     ]
    }
   ],
   "source": [
    "X_train, X_test, y_train, y_test = train_test_split( X, y, test_size=0.3, random_state=4)\n",
    "print ('Train set:', X_train.shape,  y_train.shape)\n",
    "print ('Test set:', X_test.shape,  y_test.shape)"
   ]
  },
  {
   "cell_type": "markdown",
   "metadata": {
    "id": "9_t_OBb6T300"
   },
   "source": [
    "### Logistic Regression"
   ]
  },
  {
   "cell_type": "code",
   "execution_count": 33,
   "metadata": {
    "colab": {
     "base_uri": "https://localhost:8080/"
    },
    "id": "d8XpN_buTzVW",
    "outputId": "df76b5f3-bd2e-4d3b-c910-2e35837bac66"
   },
   "outputs": [
    {
     "name": "stdout",
     "output_type": "stream",
     "text": [
      "The intercept is -4.731853809942085\n",
      "                                   coefficient\n",
      "Inflight entertainment                0.685262\n",
      "On-board service                      0.311609\n",
      "Seat comfort                          0.296165\n",
      "Checkin service                       0.294551\n",
      "Ease of Online booking                0.230627\n",
      "Leg room service                      0.219625\n",
      "Online boarding                       0.166755\n",
      "Gate location                         0.114621\n",
      "Online support                        0.089044\n",
      "Cleanliness                           0.086964\n",
      "Baggage handling                      0.086557\n",
      "Flight Distance                      -0.000109\n",
      "Departure Delay in Minutes           -0.005260\n",
      "Age                                  -0.007790\n",
      "Inflight wifi service                -0.077897\n",
      "Departure/Arrival time convenient    -0.198196\n",
      "Food and drink                       -0.227643\n",
      "Class_Eco                            -0.741388\n",
      "Type of Travel_Personal Travel       -0.760108\n",
      "Class_Eco Plus                       -0.808547\n",
      "Gender_Male                          -0.975163\n",
      "Customer Type_disloyal Customer      -1.964501\n"
     ]
    }
   ],
   "source": [
    "logit = LogisticRegression(penalty=\"l2\", solver='liblinear')\n",
    "logit.fit(X_train, y_train)\n",
    "\n",
    "print('The intercept is', logit.intercept_[0])\n",
    "print(pd.DataFrame({'coefficient': logit.coef_[0]}, index=X_train.columns).sort_values('coefficient',ascending=False))\n"
   ]
  },
  {
   "cell_type": "markdown",
   "metadata": {
    "id": "5qDlUNuPUQ4T"
   },
   "source": [
    "Model Evaluation for Logit"
   ]
  },
  {
   "cell_type": "code",
   "execution_count": 34,
   "metadata": {
    "colab": {
     "base_uri": "https://localhost:8080/"
    },
    "id": "Ifo_gaIViMXA",
    "outputId": "27523768-a683-4d11-866e-f226e701810d"
   },
   "outputs": [
    {
     "name": "stdout",
     "output_type": "stream",
     "text": [
      "Evaluation Metrics for Training Set\n",
      "Accuracy: 0.8370473843987857\n",
      "precision score:  0.8504614891785293\n",
      "recall score:  0.8525610147719974\n",
      "f1-score:  0.8515099578033697\n"
     ]
    }
   ],
   "source": [
    "print('Evaluation Metrics for Training Set')\n",
    "print(\"Accuracy:\",accuracy_score(y_train, logit.predict(X_train)))\n",
    "print(\"precision score: \", precision_score(y_train,logit.predict(X_train)))\n",
    "print(\"recall score: \", recall_score(y_train,logit.predict(X_train)))\n",
    "print(\"f1-score: \", f1_score(y_train,logit.predict(X_train)))"
   ]
  },
  {
   "cell_type": "code",
   "execution_count": 35,
   "metadata": {
    "colab": {
     "base_uri": "https://localhost:8080/"
    },
    "id": "5TtKm7pUUPDw",
    "outputId": "fa7a9142-065f-4c5d-c06a-97ee27b976f5"
   },
   "outputs": [
    {
     "name": "stdout",
     "output_type": "stream",
     "text": [
      "Evaluation Metrics for Test Set\n",
      "Accuracy: 0.8319217739451802\n",
      "precision score:  0.845042678923178\n",
      "recall score:  0.8473874806001035\n",
      "f1-score:  0.8462134554420571\n"
     ]
    }
   ],
   "source": [
    "print('Evaluation Metrics for Test Set')\n",
    "print(\"Accuracy:\",accuracy_score(y_test, logit.predict(X_test)))\n",
    "print(\"precision score: \", precision_score(y_test,logit.predict(X_test)))\n",
    "print(\"recall score: \", recall_score(y_test,logit.predict(X_test)))\n",
    "print(\"f1-score: \", f1_score(y_test,logit.predict(X_test)))"
   ]
  },
  {
   "cell_type": "markdown",
   "metadata": {
    "id": "5QY2GiiCldYN"
   },
   "source": [
    "### Decision Tree"
   ]
  },
  {
   "cell_type": "markdown",
   "metadata": {},
   "source": [
    "Decision Tree with a depth of 3"
   ]
  },
  {
   "cell_type": "code",
   "execution_count": 36,
   "metadata": {
    "colab": {
     "base_uri": "https://localhost:8080/"
    },
    "id": "7SPFUYkJUNO2",
    "outputId": "acd6c62d-48e8-4b2a-8587-402cb83cc145"
   },
   "outputs": [
    {
     "data": {
      "text/plain": [
       "DecisionTreeClassifier(max_depth=3)"
      ]
     },
     "execution_count": 36,
     "metadata": {},
     "output_type": "execute_result"
    }
   ],
   "source": [
    "dt_depth_3 = DecisionTreeClassifier(max_depth = 3)\n",
    "dt_depth_3.fit(X_train, y_train)"
   ]
  },
  {
   "cell_type": "code",
   "execution_count": 37,
   "metadata": {
    "colab": {
     "base_uri": "https://localhost:8080/"
    },
    "id": "nP2QK2gsl3ZG",
    "outputId": "4aceecb3-c91d-414a-8921-1d4e4f23c6ab"
   },
   "outputs": [
    {
     "name": "stdout",
     "output_type": "stream",
     "text": [
      "                              feature  importance\n",
      "7              Inflight entertainment    0.675370\n",
      "2                        Seat comfort    0.234993\n",
      "9              Ease of Online booking    0.075369\n",
      "18    Customer Type_disloyal Customer    0.014269\n",
      "0                                 Age    0.000000\n",
      "13                    Checkin service    0.000000\n",
      "20                          Class_Eco    0.000000\n",
      "19     Type of Travel_Personal Travel    0.000000\n",
      "17                        Gender_Male    0.000000\n",
      "16         Departure Delay in Minutes    0.000000\n",
      "15                    Online boarding    0.000000\n",
      "14                        Cleanliness    0.000000\n",
      "11                   Leg room service    0.000000\n",
      "12                   Baggage handling    0.000000\n",
      "1                     Flight Distance    0.000000\n",
      "10                   On-board service    0.000000\n",
      "8                      Online support    0.000000\n",
      "6               Inflight wifi service    0.000000\n",
      "5                       Gate location    0.000000\n",
      "4                      Food and drink    0.000000\n",
      "3   Departure/Arrival time convenient    0.000000\n",
      "21                     Class_Eco Plus    0.000000\n"
     ]
    }
   ],
   "source": [
    "dt_importances_depth_3 = dt_depth_3.feature_importances_\n",
    "dt_df_depth_3 = pd.DataFrame({'feature': X_train.columns, 'importance': dt_importances_depth_3})\n",
    "dt_df_depth_3 = dt_df_depth_3.sort_values('importance', ascending = False)\n",
    "print(dt_df_depth_3)"
   ]
  },
  {
   "cell_type": "code",
   "execution_count": 38,
   "metadata": {
    "colab": {
     "base_uri": "https://localhost:8080/",
     "height": 483
    },
    "id": "gm-V_62pmCPd",
    "outputId": "4e8e1db9-bf00-440d-f1c7-ab08805e294c"
   },
   "outputs": [
    {
     "data": {
      "text/plain": [
       "'You need to install pydotplus to visualize decision trees'"
      ]
     },
     "execution_count": 38,
     "metadata": {},
     "output_type": "execute_result"
    }
   ],
   "source": [
    "plotDecisionTree(dt_depth_3, feature_names=X_train.columns, class_names=dt_depth_3.classes_)"
   ]
  },
  {
   "cell_type": "code",
   "execution_count": 39,
   "metadata": {
    "colab": {
     "base_uri": "https://localhost:8080/"
    },
    "id": "7RTC2GSyoIsx",
    "outputId": "f145dc0d-d058-4f74-89da-ff1c05f64e04"
   },
   "outputs": [
    {
     "name": "stdout",
     "output_type": "stream",
     "text": [
      "Evaluation Metrics for Training Set of Decision Tree with a depth of 3\n",
      "Accuracy: 0.8557569624708522\n",
      "precision score:  0.8827307227157096\n",
      "recall score:  0.8496708413615928\n",
      "f1-score:  0.8658853367695486\n"
     ]
    }
   ],
   "source": [
    "print('Evaluation Metrics for Training Set of Decision Tree with a depth of 3')\n",
    "print(\"Accuracy:\",accuracy_score(y_train, dt_depth_3.predict(X_train)))\n",
    "print(\"precision score: \", precision_score(y_train,dt_depth_3.predict(X_train)))\n",
    "print(\"recall score: \", recall_score(y_train,dt_depth_3.predict(X_train)))\n",
    "print(\"f1-score: \", f1_score(y_train,dt_depth_3.predict(X_train)))"
   ]
  },
  {
   "cell_type": "code",
   "execution_count": 40,
   "metadata": {
    "colab": {
     "base_uri": "https://localhost:8080/"
    },
    "id": "33Ui2pKVmF6O",
    "outputId": "5c2a529c-b1bb-4bb8-ad0b-1bf0869eeea6"
   },
   "outputs": [
    {
     "name": "stdout",
     "output_type": "stream",
     "text": [
      "Evaluation Metrics for Test Set of Decision Tree with a depth of 3\n",
      "Accuracy: 0.8523252232830305\n",
      "precision score:  0.880551602296707\n",
      "recall score:  0.8438602266848516\n",
      "f1-score:  0.8618155619596541\n"
     ]
    }
   ],
   "source": [
    "print('Evaluation Metrics for Test Set of Decision Tree with a depth of 3')\n",
    "print(\"Accuracy:\",accuracy_score(y_test, dt_depth_3.predict(X_test)))\n",
    "print(\"precision score: \", precision_score(y_test,dt_depth_3.predict(X_test)))\n",
    "print(\"recall score: \", recall_score(y_test,dt_depth_3.predict(X_test)))\n",
    "print(\"f1-score: \", f1_score(y_test,dt_depth_3.predict(X_test)))"
   ]
  },
  {
   "cell_type": "markdown",
   "metadata": {},
   "source": [
    "Decision Tree with a depth of 4"
   ]
  },
  {
   "cell_type": "code",
   "execution_count": 41,
   "metadata": {},
   "outputs": [
    {
     "data": {
      "text/plain": [
       "DecisionTreeClassifier(max_depth=4)"
      ]
     },
     "execution_count": 41,
     "metadata": {},
     "output_type": "execute_result"
    }
   ],
   "source": [
    "dt_depth_4 = DecisionTreeClassifier(max_depth = 4)\n",
    "dt_depth_4.fit(X_train, y_train)"
   ]
  },
  {
   "cell_type": "code",
   "execution_count": 42,
   "metadata": {},
   "outputs": [
    {
     "name": "stdout",
     "output_type": "stream",
     "text": [
      "                              feature  importance\n",
      "7              Inflight entertainment    0.639960\n",
      "2                        Seat comfort    0.232178\n",
      "9              Ease of Online booking    0.071417\n",
      "8                      Online support    0.015231\n",
      "18    Customer Type_disloyal Customer    0.013521\n",
      "10                   On-board service    0.009760\n",
      "11                   Leg room service    0.008107\n",
      "5                       Gate location    0.005491\n",
      "19     Type of Travel_Personal Travel    0.004041\n",
      "15                    Online boarding    0.000294\n",
      "14                        Cleanliness    0.000000\n",
      "20                          Class_Eco    0.000000\n",
      "17                        Gender_Male    0.000000\n",
      "16         Departure Delay in Minutes    0.000000\n",
      "0                                 Age    0.000000\n",
      "13                    Checkin service    0.000000\n",
      "12                   Baggage handling    0.000000\n",
      "1                     Flight Distance    0.000000\n",
      "6               Inflight wifi service    0.000000\n",
      "4                      Food and drink    0.000000\n",
      "3   Departure/Arrival time convenient    0.000000\n",
      "21                     Class_Eco Plus    0.000000\n"
     ]
    }
   ],
   "source": [
    "dt_importances_depth_4 = dt_depth_4.feature_importances_\n",
    "dt_df_depth_4 = pd.DataFrame({'feature': X_train.columns, 'importance': dt_importances_depth_4})\n",
    "dt_df_depth_4 = dt_df_depth_4.sort_values('importance', ascending = False)\n",
    "print(dt_df_depth_4)"
   ]
  },
  {
   "cell_type": "code",
   "execution_count": 43,
   "metadata": {},
   "outputs": [
    {
     "data": {
      "text/plain": [
       "'You need to install pydotplus to visualize decision trees'"
      ]
     },
     "execution_count": 43,
     "metadata": {},
     "output_type": "execute_result"
    }
   ],
   "source": [
    "plotDecisionTree(dt_depth_4, feature_names=X_train.columns, class_names=dt_depth_4.classes_)"
   ]
  },
  {
   "cell_type": "code",
   "execution_count": 44,
   "metadata": {},
   "outputs": [
    {
     "name": "stdout",
     "output_type": "stream",
     "text": [
      "Evaluation Metrics for Training Set of Decision Tree with a depth of 4\n",
      "Accuracy: 0.8697698974877909\n",
      "precision score:  0.9109399342219144\n",
      "recall score:  0.8449743095696853\n",
      "f1-score:  0.8767180341524364\n"
     ]
    }
   ],
   "source": [
    "print('Evaluation Metrics for Training Set of Decision Tree with a depth of 4')\n",
    "print(\"Accuracy:\",accuracy_score(y_train, dt_depth_4.predict(X_train)))\n",
    "print(\"precision score: \", precision_score(y_train,dt_depth_4.predict(X_train)))\n",
    "print(\"recall score: \", recall_score(y_train,dt_depth_4.predict(X_train)))\n",
    "print(\"f1-score: \", f1_score(y_train,dt_depth_4.predict(X_train)))"
   ]
  },
  {
   "cell_type": "code",
   "execution_count": 45,
   "metadata": {},
   "outputs": [
    {
     "name": "stdout",
     "output_type": "stream",
     "text": [
      "Evaluation Metrics for Test Set of Decision Tree with a depth of 4\n",
      "Accuracy: 0.8669797762036752\n",
      "precision score:  0.9094937353570337\n",
      "recall score:  0.8398156421953629\n",
      "f1-score:  0.873266987798616\n"
     ]
    }
   ],
   "source": [
    "print('Evaluation Metrics for Test Set of Decision Tree with a depth of 4')\n",
    "print(\"Accuracy:\",accuracy_score(y_test, dt_depth_4.predict(X_test)))\n",
    "print(\"precision score: \", precision_score(y_test,dt_depth_4.predict(X_test)))\n",
    "print(\"recall score: \", recall_score(y_test,dt_depth_4.predict(X_test)))\n",
    "print(\"f1-score: \", f1_score(y_test,dt_depth_4.predict(X_test)))"
   ]
  },
  {
   "cell_type": "markdown",
   "metadata": {},
   "source": [
    "Decision Tree with a depth of 5"
   ]
  },
  {
   "cell_type": "code",
   "execution_count": 46,
   "metadata": {},
   "outputs": [
    {
     "name": "stdout",
     "output_type": "stream",
     "text": [
      "                              feature  importance\n",
      "7              Inflight entertainment    0.609695\n",
      "2                        Seat comfort    0.237006\n",
      "9              Ease of Online booking    0.068071\n",
      "1                     Flight Distance    0.020483\n",
      "8                      Online support    0.014360\n",
      "18    Customer Type_disloyal Customer    0.013589\n",
      "10                   On-board service    0.013064\n",
      "11                   Leg room service    0.007644\n",
      "19     Type of Travel_Personal Travel    0.005483\n",
      "5                       Gate location    0.005177\n",
      "3   Departure/Arrival time convenient    0.003006\n",
      "20                          Class_Eco    0.001606\n",
      "16         Departure Delay in Minutes    0.000818\n",
      "15                    Online boarding    0.000000\n",
      "17                        Gender_Male    0.000000\n",
      "0                                 Age    0.000000\n",
      "14                        Cleanliness    0.000000\n",
      "13                    Checkin service    0.000000\n",
      "12                   Baggage handling    0.000000\n",
      "6               Inflight wifi service    0.000000\n",
      "4                      Food and drink    0.000000\n",
      "21                     Class_Eco Plus    0.000000\n"
     ]
    }
   ],
   "source": [
    "dt_depth_5 = DecisionTreeClassifier(max_depth = 5)\n",
    "dt_depth_5.fit(X_train, y_train)\n",
    "\n",
    "dt_importances_depth_5 = dt_depth_5.feature_importances_\n",
    "dt_df_depth_5 = pd.DataFrame({'feature': X_train.columns, 'importance': dt_importances_depth_5})\n",
    "dt_df_depth_5 = dt_df_depth_5.sort_values('importance', ascending = False)\n",
    "print(dt_df_depth_5)"
   ]
  },
  {
   "cell_type": "code",
   "execution_count": 47,
   "metadata": {},
   "outputs": [
    {
     "data": {
      "text/plain": [
       "'You need to install pydotplus to visualize decision trees'"
      ]
     },
     "execution_count": 47,
     "metadata": {},
     "output_type": "execute_result"
    }
   ],
   "source": [
    "plotDecisionTree(dt_depth_5, feature_names=X_train.columns, class_names=dt_depth_5.classes_)"
   ]
  },
  {
   "cell_type": "code",
   "execution_count": 48,
   "metadata": {},
   "outputs": [
    {
     "name": "stdout",
     "output_type": "stream",
     "text": [
      "Evaluation Metrics for Training Set of Decision Tree with a depth of 5\n",
      "Accuracy: 0.8800321175590655\n",
      "precision score:  0.907004957225627\n",
      "recall score:  0.8703235388567758\n",
      "f1-score:  0.8882857230649472\n"
     ]
    }
   ],
   "source": [
    "print('Evaluation Metrics for Training Set of Decision Tree with a depth of 5')\n",
    "print(\"Accuracy:\",accuracy_score(y_train, dt_depth_5.predict(X_train)))\n",
    "print(\"precision score: \", precision_score(y_train,dt_depth_5.predict(X_train)))\n",
    "print(\"recall score: \", recall_score(y_train,dt_depth_5.predict(X_train)))\n",
    "print(\"f1-score: \", f1_score(y_train,dt_depth_5.predict(X_train)))"
   ]
  },
  {
   "cell_type": "code",
   "execution_count": 49,
   "metadata": {},
   "outputs": [
    {
     "name": "stdout",
     "output_type": "stream",
     "text": [
      "Evaluation Metrics for Test Set of Decision Tree with a depth of 5\n",
      "Accuracy: 0.8766553741915615\n",
      "precision score:  0.905964773792491\n",
      "recall score:  0.863612848610262\n",
      "f1-score:  0.8842819994221324\n"
     ]
    }
   ],
   "source": [
    "print('Evaluation Metrics for Test Set of Decision Tree with a depth of 5')\n",
    "print(\"Accuracy:\",accuracy_score(y_test, dt_depth_5.predict(X_test)))\n",
    "print(\"precision score: \", precision_score(y_test,dt_depth_5.predict(X_test)))\n",
    "print(\"recall score: \", recall_score(y_test,dt_depth_5.predict(X_test)))\n",
    "print(\"f1-score: \", f1_score(y_test,dt_depth_5.predict(X_test)))"
   ]
  },
  {
   "cell_type": "markdown",
   "metadata": {
    "id": "k6VPcAaIpdSx"
   },
   "source": [
    "### Naive Bayes"
   ]
  },
  {
   "cell_type": "code",
   "execution_count": 50,
   "metadata": {
    "colab": {
     "base_uri": "https://localhost:8080/"
    },
    "id": "eIm8QDz-pWuH",
    "outputId": "699afab7-e138-4d60-d12d-33fedd1b90bb"
   },
   "outputs": [
    {
     "data": {
      "text/plain": [
       "GaussianNB()"
      ]
     },
     "execution_count": 50,
     "metadata": {},
     "output_type": "execute_result"
    }
   ],
   "source": [
    "# run naive Bayes\n",
    "nb = GaussianNB()\n",
    "nb.fit(X_train, y_train)"
   ]
  },
  {
   "cell_type": "code",
   "execution_count": 51,
   "metadata": {
    "id": "5FiY0Ji4qChh"
   },
   "outputs": [],
   "source": [
    "# predict probabilities\n",
    "predProb_train = nb.predict_proba(X_train)\n",
    "predProb_test = nb.predict_proba(X_test)\n",
    "\n",
    "# predict class membership\n",
    "y_test_pred = nb.predict(X_test)\n",
    "y_train_pred = nb.predict(X_train)"
   ]
  },
  {
   "cell_type": "code",
   "execution_count": 52,
   "metadata": {
    "colab": {
     "base_uri": "https://localhost:8080/"
    },
    "id": "crrC-6-_rozp",
    "outputId": "8a189e99-8848-4526-f884-5aa786df9f63"
   },
   "outputs": [
    {
     "name": "stdout",
     "output_type": "stream",
     "text": [
      "Confusion Matrix (Accuracy 0.8212)\n",
      "\n",
      "       Prediction\n",
      "Actual     0     1\n",
      "     0 33106  7986\n",
      "     1  8270 41554\n",
      "\n",
      "Accuracy on train is 0.82\n",
      "Precision score on train is 0.84\n",
      "Recall score on train is 0.83\n",
      "F1 score on train is 0.84\n"
     ]
    }
   ],
   "source": [
    "# training\n",
    "classificationSummary(y_train, nb.predict(X_train))\n",
    "\n",
    "#accuracy of model for training set\n",
    "print('\\nAccuracy on train is', round(accuracy_score(y_train,y_train_pred),2))\n",
    "print('Precision score on train is', round(precision_score(y_train,y_train_pred, pos_label = 1),2))\n",
    "print('Recall score on train is', round(recall_score(y_train,y_train_pred, pos_label = 1),2))\n",
    "print('F1 score on train is', round(f1_score(y_train,y_train_pred, pos_label = 1),2))"
   ]
  },
  {
   "cell_type": "code",
   "execution_count": 53,
   "metadata": {
    "colab": {
     "base_uri": "https://localhost:8080/"
    },
    "id": "rXp0knkcsGzE",
    "outputId": "edd1cc0f-0ec5-4f37-8be1-8592e5b3d993"
   },
   "outputs": [
    {
     "name": "stdout",
     "output_type": "stream",
     "text": [
      "Confusion Matrix (Accuracy 0.8186)\n",
      "\n",
      "       Prediction\n",
      "Actual     0     1\n",
      "     0 14167  3534\n",
      "     1  3534 17729\n",
      "\n",
      "Accuracy on train is 0.82\n",
      "Precision score on train is 0.83\n",
      "Recall score on train is 0.83\n",
      "F1 score on train is 0.83\n"
     ]
    }
   ],
   "source": [
    "# validation set\n",
    "classificationSummary(y_test, nb.predict(X_test))\n",
    "\n",
    "#accuracy of model for validation set\n",
    "print('\\nAccuracy on train is', round(accuracy_score(y_test,y_test_pred),2))\n",
    "print('Precision score on train is', round(precision_score(y_test,y_test_pred, pos_label = 1),2))\n",
    "print('Recall score on train is', round(recall_score(y_test,y_test_pred, pos_label = 1),2))\n",
    "print('F1 score on train is', round(f1_score(y_test,y_test_pred, pos_label = 1),2))"
   ]
  },
  {
   "cell_type": "code",
   "execution_count": 54,
   "metadata": {
    "colab": {
     "base_uri": "https://localhost:8080/",
     "height": 728
    },
    "id": "Ho0l1sPdtcRp",
    "outputId": "0a4fd456-6c24-4a1e-fbd2-54c6b69182d4"
   },
   "outputs": [
    {
     "data": {
      "text/html": [
       "<div>\n",
       "<style scoped>\n",
       "    .dataframe tbody tr th:only-of-type {\n",
       "        vertical-align: middle;\n",
       "    }\n",
       "\n",
       "    .dataframe tbody tr th {\n",
       "        vertical-align: top;\n",
       "    }\n",
       "\n",
       "    .dataframe thead th {\n",
       "        text-align: right;\n",
       "    }\n",
       "</style>\n",
       "<table border=\"1\" class=\"dataframe\">\n",
       "  <thead>\n",
       "    <tr style=\"text-align: right;\">\n",
       "      <th></th>\n",
       "      <th>attribute</th>\n",
       "      <th>importance</th>\n",
       "    </tr>\n",
       "  </thead>\n",
       "  <tbody>\n",
       "    <tr>\n",
       "      <th>1</th>\n",
       "      <td>Flight Distance</td>\n",
       "      <td>2026.963618</td>\n",
       "    </tr>\n",
       "    <tr>\n",
       "      <th>0</th>\n",
       "      <td>Age</td>\n",
       "      <td>37.453738</td>\n",
       "    </tr>\n",
       "    <tr>\n",
       "      <th>16</th>\n",
       "      <td>Departure Delay in Minutes</td>\n",
       "      <td>17.908960</td>\n",
       "    </tr>\n",
       "    <tr>\n",
       "      <th>14</th>\n",
       "      <td>Cleanliness</td>\n",
       "      <td>3.373114</td>\n",
       "    </tr>\n",
       "    <tr>\n",
       "      <th>12</th>\n",
       "      <td>Baggage handling</td>\n",
       "      <td>3.364280</td>\n",
       "    </tr>\n",
       "    <tr>\n",
       "      <th>11</th>\n",
       "      <td>Leg room service</td>\n",
       "      <td>3.045873</td>\n",
       "    </tr>\n",
       "    <tr>\n",
       "      <th>3</th>\n",
       "      <td>Departure/Arrival time convenient</td>\n",
       "      <td>3.017351</td>\n",
       "    </tr>\n",
       "    <tr>\n",
       "      <th>5</th>\n",
       "      <td>Gate location</td>\n",
       "      <td>3.008493</td>\n",
       "    </tr>\n",
       "    <tr>\n",
       "      <th>13</th>\n",
       "      <td>Checkin service</td>\n",
       "      <td>2.972987</td>\n",
       "    </tr>\n",
       "    <tr>\n",
       "      <th>10</th>\n",
       "      <td>On-board service</td>\n",
       "      <td>2.971844</td>\n",
       "    </tr>\n",
       "    <tr>\n",
       "      <th>8</th>\n",
       "      <td>Online support</td>\n",
       "      <td>2.954298</td>\n",
       "    </tr>\n",
       "    <tr>\n",
       "      <th>6</th>\n",
       "      <td>Inflight wifi service</td>\n",
       "      <td>2.914193</td>\n",
       "    </tr>\n",
       "    <tr>\n",
       "      <th>15</th>\n",
       "      <td>Online boarding</td>\n",
       "      <td>2.863672</td>\n",
       "    </tr>\n",
       "    <tr>\n",
       "      <th>9</th>\n",
       "      <td>Ease of Online booking</td>\n",
       "      <td>2.847537</td>\n",
       "    </tr>\n",
       "    <tr>\n",
       "      <th>4</th>\n",
       "      <td>Food and drink</td>\n",
       "      <td>2.661735</td>\n",
       "    </tr>\n",
       "    <tr>\n",
       "      <th>7</th>\n",
       "      <td>Inflight entertainment</td>\n",
       "      <td>2.604668</td>\n",
       "    </tr>\n",
       "    <tr>\n",
       "      <th>2</th>\n",
       "      <td>Seat comfort</td>\n",
       "      <td>2.462961</td>\n",
       "    </tr>\n",
       "    <tr>\n",
       "      <th>17</th>\n",
       "      <td>Gender_Male</td>\n",
       "      <td>0.611506</td>\n",
       "    </tr>\n",
       "    <tr>\n",
       "      <th>20</th>\n",
       "      <td>Class_Eco</td>\n",
       "      <td>0.601334</td>\n",
       "    </tr>\n",
       "    <tr>\n",
       "      <th>19</th>\n",
       "      <td>Type of Travel_Personal Travel</td>\n",
       "      <td>0.364256</td>\n",
       "    </tr>\n",
       "    <tr>\n",
       "      <th>18</th>\n",
       "      <td>Customer Type_disloyal Customer</td>\n",
       "      <td>0.306240</td>\n",
       "    </tr>\n",
       "    <tr>\n",
       "      <th>21</th>\n",
       "      <td>Class_Eco Plus</td>\n",
       "      <td>0.091161</td>\n",
       "    </tr>\n",
       "  </tbody>\n",
       "</table>\n",
       "</div>"
      ],
      "text/plain": [
       "                            attribute   importance\n",
       "1                     Flight Distance  2026.963618\n",
       "0                                 Age    37.453738\n",
       "16         Departure Delay in Minutes    17.908960\n",
       "14                        Cleanliness     3.373114\n",
       "12                   Baggage handling     3.364280\n",
       "11                   Leg room service     3.045873\n",
       "3   Departure/Arrival time convenient     3.017351\n",
       "5                       Gate location     3.008493\n",
       "13                    Checkin service     2.972987\n",
       "10                   On-board service     2.971844\n",
       "8                      Online support     2.954298\n",
       "6               Inflight wifi service     2.914193\n",
       "15                    Online boarding     2.863672\n",
       "9              Ease of Online booking     2.847537\n",
       "4                      Food and drink     2.661735\n",
       "7              Inflight entertainment     2.604668\n",
       "2                        Seat comfort     2.462961\n",
       "17                        Gender_Male     0.611506\n",
       "20                          Class_Eco     0.601334\n",
       "19     Type of Travel_Personal Travel     0.364256\n",
       "18    Customer Type_disloyal Customer     0.306240\n",
       "21                     Class_Eco Plus     0.091161"
      ]
     },
     "execution_count": 54,
     "metadata": {},
     "output_type": "execute_result"
    }
   ],
   "source": [
    "NB_varimportance_0 = pd.DataFrame({'attribute': X_train.columns, 'importance': nb.theta_[0]})\n",
    "NB_varimportance_0.sort_values('importance', ascending = False)"
   ]
  },
  {
   "cell_type": "code",
   "execution_count": 55,
   "metadata": {
    "colab": {
     "base_uri": "https://localhost:8080/",
     "height": 350
    },
    "id": "iRcV_Kjrt06I",
    "outputId": "1ef1fce7-7cd9-457c-f135-2aa4a71ed084"
   },
   "outputs": [
    {
     "data": {
      "image/png": "[encoded data removed]",
      "text/plain": [
       "<Figure size 360x360 with 1 Axes>"
      ]
     },
     "metadata": {
      "needs_background": "light"
     },
     "output_type": "display_data"
    }
   ],
   "source": [
    "def roc_graph(nb,dt_depth_3,dt_depth_4,dt_depth_5,logit,y_test,X_test):\n",
    "    nb_fpr,nb_tpr, _ = roc_curve(y_test,nb.predict_proba(X_test)[:,1],pos_label = 1)\n",
    "    nb_roc_auc = auc(nb_fpr,nb_tpr)\n",
    "    dt_depth_3_fpr,dt_depth_3_tpr, _ = roc_curve(y_test,dt_depth_3.predict_proba(X_test)[:,1],pos_label = 1)\n",
    "    dt_depth_3_roc_auc = auc(dt_depth_3_fpr,dt_depth_3_tpr)\n",
    "    dt_depth_4_fpr,dt_depth_4_tpr, _ = roc_curve(y_test,dt_depth_4.predict_proba(X_test)[:,1],pos_label = 1)\n",
    "    dt_depth_4_roc_auc = auc(dt_depth_4_fpr,dt_depth_4_tpr)\n",
    "    dt_depth_5_fpr,dt_depth_5_tpr, _ = roc_curve(y_test,dt_depth_5.predict_proba(X_test)[:,1],pos_label = 1)\n",
    "    dt_depth_5_roc_auc = auc(dt_depth_5_fpr,dt_depth_5_tpr)\n",
    "    logit_fpr,logit_tpr, _ = roc_curve(y_test,logit.predict_proba(X_test)[:,1],pos_label = 1)\n",
    "    logit_roc_auc = auc(logit_fpr,logit_tpr)\n",
    "    plt.figure(figsize=[5,5])\n",
    "    plt.plot(nb_fpr,nb_tpr,color='red',\n",
    "            lw=2, label=' Naive Bayes (area = %0.2f)' % nb_roc_auc)\n",
    "    plt.plot(dt_depth_3_fpr,dt_depth_3_tpr,color='green',\n",
    "            lw=2, label=' Decision Tree(3) (area = %0.2f)' % dt_depth_3_roc_auc)\n",
    "    plt.plot(dt_depth_4_fpr,dt_depth_4_tpr,color='yellow',\n",
    "            lw=2, label=' Decision Tree(4) (area = %0.2f)' % dt_depth_4_roc_auc)\n",
    "    plt.plot(dt_depth_5_fpr,dt_depth_5_tpr,color='orange',\n",
    "            lw=2, label=' Decision Tree(5) (area = %0.2f)' % dt_depth_5_roc_auc)\n",
    "    plt.plot(logit_fpr,logit_tpr,color='purple',\n",
    "            lw=2, label=' Logistic Regression (area = %0.2f)' % logit_roc_auc)\n",
    "    plt.plot([0,1],[0,1],color='navy',lw=2,linestyle='--')\n",
    "    plt.xlim([0.0,1.0])\n",
    "    plt.ylim([0.0,1.0])\n",
    "    plt.xlabel('False positive Rate')\n",
    "    plt.ylabel('True Positive Rate')\n",
    "    plt.title('Receiver operating characteristic (ROC)')\n",
    "    plt.legend(loc=\"lower right\")\n",
    "    plt.show()\n",
    "    \n",
    "    \n",
    "roc_graph(nb,dt_depth_3,dt_depth_4,dt_depth_5,logit,y_test,X_test)"
   ]
  },
  {
   "cell_type": "markdown",
   "metadata": {},
   "source": [
    "Decision Tree with a depth of 5 has the highest AUC."
   ]
  },
  {
   "cell_type": "markdown",
   "metadata": {},
   "source": [
    "# Feature Engineering"
   ]
  },
  {
   "cell_type": "markdown",
   "metadata": {
    "id": "6o4zXyIEQZvV"
   },
   "source": [
    "The most important attributes from decision tree is: 'Inflight entertainment', 'Seat comfort', 'Ease of Online booking','On-board service', 'Online support'"
   ]
  },
  {
   "cell_type": "code",
   "execution_count": 56,
   "metadata": {
    "id": "Q5yO_eBGOxFl"
   },
   "outputs": [],
   "source": [
    "dt_predictors_1 = ['Inflight entertainment', 'Seat comfort', 'Ease of Online booking','On-board service', 'Online support']\n",
    "dt_outcome_1 = 'satisfaction_satisfied' # target variable"
   ]
  },
  {
   "cell_type": "code",
   "execution_count": 57,
   "metadata": {
    "id": "HWl6SnJKOx3T"
   },
   "outputs": [],
   "source": [
    "dt_X_1 = df[dt_predictors_1]\n",
    "dt_y_1 = df[dt_outcome_1]"
   ]
  },
  {
   "cell_type": "code",
   "execution_count": 58,
   "metadata": {
    "colab": {
     "base_uri": "https://localhost:8080/"
    },
    "id": "DEGwz-atOxRZ",
    "outputId": "4aca0b2a-437d-4ee1-95dd-d5cd0bdbdec4"
   },
   "outputs": [
    {
     "name": "stdout",
     "output_type": "stream",
     "text": [
      "Train set: (90916, 5) (90916,)\n",
      "Test set: (38964, 5) (38964,)\n"
     ]
    }
   ],
   "source": [
    "X_train_1, X_test_1, y_train_1, y_test_1 = train_test_split( dt_X_1, dt_y_1, test_size=0.3, random_state=4)\n",
    "print ('Train set:', X_train_1.shape,  y_train_1.shape)\n",
    "print ('Test set:', X_test_1.shape,  y_test_1.shape)"
   ]
  },
  {
   "cell_type": "code",
   "execution_count": 59,
   "metadata": {
    "colab": {
     "base_uri": "https://localhost:8080/"
    },
    "id": "TsbyWQQNQIlq",
    "outputId": "e8aaa855-bb0d-4392-fee9-da6b36afe62e"
   },
   "outputs": [
    {
     "name": "stdout",
     "output_type": "stream",
     "text": [
      "                  feature  importance\n",
      "0  Inflight entertainment    0.633050\n",
      "1            Seat comfort    0.237333\n",
      "2  Ease of Online booking    0.086809\n",
      "3        On-board service    0.024923\n",
      "4          Online support    0.017886\n"
     ]
    }
   ],
   "source": [
    "dt_1 = DecisionTreeClassifier(max_depth = 5)\n",
    "dt_1.fit(X_train_1, y_train_1)\n",
    "dt_importances_1 = dt_1.feature_importances_\n",
    "dt_df_1 = pd.DataFrame({'feature': X_train_1.columns, 'importance': dt_importances_1})\n",
    "dt_df_1 = dt_df_1.sort_values('importance', ascending = False)\n",
    "print(dt_df_1)"
   ]
  },
  {
   "cell_type": "code",
   "execution_count": 60,
   "metadata": {
    "colab": {
     "base_uri": "https://localhost:8080/"
    },
    "id": "_gNrS8CcQI9O",
    "outputId": "b4f3b343-06f7-406a-cd80-7dbc0d2f6c99"
   },
   "outputs": [
    {
     "name": "stdout",
     "output_type": "stream",
     "text": [
      "Accuracy: 0.8681860178626425\n",
      "precision score:  0.8986109051361906\n",
      "recall score:  0.8549122889526407\n",
      "f1-score:  0.8762171020919696\n"
     ]
    }
   ],
   "source": [
    "print(\"Accuracy:\",accuracy_score(y_test_1, dt_1.predict(X_test_1)))\n",
    "print(\"precision score: \", precision_score(y_test_1,dt_1.predict(X_test_1)))\n",
    "print(\"recall score: \", recall_score(y_test_1,dt_1.predict(X_test_1)))\n",
    "print(\"f1-score: \", f1_score(y_test_1,dt_1.predict(X_test_1)))"
   ]
  },
  {
   "cell_type": "markdown",
   "metadata": {
    "id": "hl_k_yabGuJ2"
   },
   "source": [
    "#### PCA (based on decision tree)"
   ]
  },
  {
   "cell_type": "code",
   "execution_count": 61,
   "metadata": {
    "colab": {
     "base_uri": "https://localhost:8080/",
     "height": 136
    },
    "id": "dc2ug_JEGzne",
    "outputId": "a9914e14-84b2-4364-ec88-3d50ab07e026"
   },
   "outputs": [
    {
     "data": {
      "text/html": [
       "<div>\n",
       "<style scoped>\n",
       "    .dataframe tbody tr th:only-of-type {\n",
       "        vertical-align: middle;\n",
       "    }\n",
       "\n",
       "    .dataframe tbody tr th {\n",
       "        vertical-align: top;\n",
       "    }\n",
       "\n",
       "    .dataframe thead th {\n",
       "        text-align: right;\n",
       "    }\n",
       "</style>\n",
       "<table border=\"1\" class=\"dataframe\">\n",
       "  <thead>\n",
       "    <tr style=\"text-align: right;\">\n",
       "      <th></th>\n",
       "      <th>PC1</th>\n",
       "      <th>PC2</th>\n",
       "      <th>PC3</th>\n",
       "      <th>PC4</th>\n",
       "      <th>PC5</th>\n",
       "    </tr>\n",
       "  </thead>\n",
       "  <tbody>\n",
       "    <tr>\n",
       "      <th>Standard deviation</th>\n",
       "      <td>1.9913</td>\n",
       "      <td>1.3848</td>\n",
       "      <td>1.2100</td>\n",
       "      <td>0.9790</td>\n",
       "      <td>0.6879</td>\n",
       "    </tr>\n",
       "    <tr>\n",
       "      <th>Proportion of variance</th>\n",
       "      <td>0.4517</td>\n",
       "      <td>0.2185</td>\n",
       "      <td>0.1668</td>\n",
       "      <td>0.1092</td>\n",
       "      <td>0.0539</td>\n",
       "    </tr>\n",
       "    <tr>\n",
       "      <th>Cumulative proportion</th>\n",
       "      <td>0.4517</td>\n",
       "      <td>0.6701</td>\n",
       "      <td>0.8369</td>\n",
       "      <td>0.9461</td>\n",
       "      <td>1.0000</td>\n",
       "    </tr>\n",
       "  </tbody>\n",
       "</table>\n",
       "</div>"
      ],
      "text/plain": [
       "                           PC1     PC2     PC3     PC4     PC5\n",
       "Standard deviation      1.9913  1.3848  1.2100  0.9790  0.6879\n",
       "Proportion of variance  0.4517  0.2185  0.1668  0.1092  0.0539\n",
       "Cumulative proportion   0.4517  0.6701  0.8369  0.9461  1.0000"
      ]
     },
     "execution_count": 61,
     "metadata": {},
     "output_type": "execute_result"
    }
   ],
   "source": [
    "pcs_dt = PCA(n_components=5)\n",
    "pcs_dt.fit(df[['Inflight entertainment', 'Seat comfort', 'Ease of Online booking','On-board service', 'Online support']])\n",
    "\n",
    "pcsSummary_dt = pd.DataFrame({'Standard deviation': np.sqrt(pcs_dt.explained_variance_),\n",
    "                           'Proportion of variance': pcs_dt.explained_variance_ratio_,\n",
    "                           'Cumulative proportion': np.cumsum(pcs_dt.explained_variance_ratio_)})\n",
    "pcsSummary_dt = pcsSummary_dt.transpose()\n",
    "pcsSummary_dt.columns = ['PC1', 'PC2', 'PC3','PC4', 'PC5']\n",
    "pcsSummary_dt.round(4)"
   ]
  },
  {
   "cell_type": "code",
   "execution_count": 62,
   "metadata": {
    "colab": {
     "base_uri": "https://localhost:8080/",
     "height": 195
    },
    "id": "-wc_UABFNUWj",
    "outputId": "32abf913-27bd-4b45-cc4e-64b82942c0b4"
   },
   "outputs": [
    {
     "data": {
      "text/html": [
       "<div>\n",
       "<style scoped>\n",
       "    .dataframe tbody tr th:only-of-type {\n",
       "        vertical-align: middle;\n",
       "    }\n",
       "\n",
       "    .dataframe tbody tr th {\n",
       "        vertical-align: top;\n",
       "    }\n",
       "\n",
       "    .dataframe thead th {\n",
       "        text-align: right;\n",
       "    }\n",
       "</style>\n",
       "<table border=\"1\" class=\"dataframe\">\n",
       "  <thead>\n",
       "    <tr style=\"text-align: right;\">\n",
       "      <th></th>\n",
       "      <th>PC1</th>\n",
       "      <th>PC2</th>\n",
       "      <th>PC3</th>\n",
       "      <th>PC4</th>\n",
       "      <th>PC5</th>\n",
       "    </tr>\n",
       "  </thead>\n",
       "  <tbody>\n",
       "    <tr>\n",
       "      <th>0</th>\n",
       "      <td>1.906744</td>\n",
       "      <td>1.097240</td>\n",
       "      <td>-0.501983</td>\n",
       "      <td>-1.998487</td>\n",
       "      <td>-1.449435</td>\n",
       "    </tr>\n",
       "    <tr>\n",
       "      <th>1</th>\n",
       "      <td>2.590318</td>\n",
       "      <td>2.076769</td>\n",
       "      <td>0.777782</td>\n",
       "      <td>-0.888799</td>\n",
       "      <td>-0.610362</td>\n",
       "    </tr>\n",
       "    <tr>\n",
       "      <th>2</th>\n",
       "      <td>4.422619</td>\n",
       "      <td>2.044351</td>\n",
       "      <td>0.443036</td>\n",
       "      <td>0.441543</td>\n",
       "      <td>0.261280</td>\n",
       "    </tr>\n",
       "    <tr>\n",
       "      <th>3</th>\n",
       "      <td>3.086210</td>\n",
       "      <td>0.012534</td>\n",
       "      <td>-2.678992</td>\n",
       "      <td>-2.042464</td>\n",
       "      <td>-0.149061</td>\n",
       "    </tr>\n",
       "    <tr>\n",
       "      <th>4</th>\n",
       "      <td>2.265476</td>\n",
       "      <td>1.352675</td>\n",
       "      <td>-2.104181</td>\n",
       "      <td>-1.094882</td>\n",
       "      <td>0.400572</td>\n",
       "    </tr>\n",
       "  </tbody>\n",
       "</table>\n",
       "</div>"
      ],
      "text/plain": [
       "        PC1       PC2       PC3       PC4       PC5\n",
       "0  1.906744  1.097240 -0.501983 -1.998487 -1.449435\n",
       "1  2.590318  2.076769  0.777782 -0.888799 -0.610362\n",
       "2  4.422619  2.044351  0.443036  0.441543  0.261280\n",
       "3  3.086210  0.012534 -2.678992 -2.042464 -0.149061\n",
       "4  2.265476  1.352675 -2.104181 -1.094882  0.400572"
      ]
     },
     "execution_count": 62,
     "metadata": {},
     "output_type": "execute_result"
    }
   ],
   "source": [
    "scores_dt = pd.DataFrame(pcs_dt.transform(df[['Inflight entertainment', 'Seat comfort', 'Ease of Online booking','On-board service', 'Online support']]), \n",
    "                      columns=['PC1', 'PC2', 'PC3', 'PC4', 'PC5'])\n",
    "scores_dt.head()"
   ]
  },
  {
   "cell_type": "markdown",
   "metadata": {
    "id": "0K8iVs02jnlH"
   },
   "source": [
    "USE PC SCORES TO RUN MODEL"
   ]
  },
  {
   "cell_type": "code",
   "execution_count": 63,
   "metadata": {
    "id": "xi9IyGHJjm7n"
   },
   "outputs": [],
   "source": [
    "dt_predictors_1 = ['PC1','PC2','PC3','PC4']\n",
    "dt_outcome = 'satisfaction_satisfied' # target variable"
   ]
  },
  {
   "cell_type": "code",
   "execution_count": 64,
   "metadata": {
    "id": "QRkX50KVj5z2"
   },
   "outputs": [],
   "source": [
    "dt_X = scores_dt[dt_predictors_1]\n",
    "dt_y = df[dt_outcome]"
   ]
  },
  {
   "cell_type": "code",
   "execution_count": 65,
   "metadata": {
    "colab": {
     "base_uri": "https://localhost:8080/"
    },
    "id": "gbB3lz6fj50F",
    "outputId": "b5053cb7-0f77-4866-d94b-fea51668f977"
   },
   "outputs": [
    {
     "name": "stdout",
     "output_type": "stream",
     "text": [
      "Train set: (90916, 4) (90916,)\n",
      "Test set: (38964, 4) (38964,)\n"
     ]
    }
   ],
   "source": [
    "X_train_dt, X_test_dt, y_train_dt, y_test_dt = train_test_split( dt_X, dt_y, test_size=0.3, random_state=4)\n",
    "print ('Train set:', X_train_dt.shape,  y_train_dt.shape)\n",
    "print ('Test set:', X_test_dt.shape,  y_test_dt.shape)"
   ]
  },
  {
   "cell_type": "code",
   "execution_count": 66,
   "metadata": {
    "colab": {
     "base_uri": "https://localhost:8080/"
    },
    "id": "FuOdACXIj50G",
    "outputId": "a5be1e2b-de9e-4d69-df06-c39d737729e0"
   },
   "outputs": [
    {
     "name": "stdout",
     "output_type": "stream",
     "text": [
      "  feature  importance\n",
      "0     PC1    0.656904\n",
      "1     PC2    0.167029\n",
      "3     PC4    0.142419\n",
      "2     PC3    0.033649\n"
     ]
    }
   ],
   "source": [
    "dt_2 = DecisionTreeClassifier(max_depth = 5)\n",
    "dt_2.fit(X_train_dt, y_train_dt)\n",
    "dt_importances_2 = dt_2.feature_importances_\n",
    "dt_df_2 = pd.DataFrame({'feature': X_train_dt.columns, 'importance': dt_importances_2})\n",
    "dt_df_2 = dt_df_2.sort_values('importance', ascending = False)\n",
    "print(dt_df_2)"
   ]
  },
  {
   "cell_type": "code",
   "execution_count": 67,
   "metadata": {
    "colab": {
     "base_uri": "https://localhost:8080/"
    },
    "id": "vR4W0Rtmj50H",
    "outputId": "285fbdfc-f7dd-420a-a9ab-2ef60888bbfe"
   },
   "outputs": [
    {
     "name": "stdout",
     "output_type": "stream",
     "text": [
      "Accuracy: 0.8445231495739657\n",
      "precision score:  0.8479245801107501\n",
      "recall score:  0.871372807223816\n",
      "f1-score:  0.8594887971424594\n"
     ]
    }
   ],
   "source": [
    "print(\"Accuracy:\",accuracy_score(y_test_dt, dt_2.predict(X_test_dt)))\n",
    "print(\"precision score: \", precision_score(y_test_dt,dt_2.predict(X_test_dt)))\n",
    "print(\"recall score: \", recall_score(y_test_dt,dt_2.predict(X_test_dt)))\n",
    "print(\"f1-score: \", f1_score(y_test_dt,dt_2.predict(X_test_dt)))"
   ]
  },
  {
   "cell_type": "markdown",
   "metadata": {
    "id": "3ME05M5sN3HB"
   },
   "source": [
    "**PCA (based on logistic)**"
   ]
  },
  {
   "cell_type": "markdown",
   "metadata": {
    "id": "SQhlGl2mQ9yX"
   },
   "source": [
    "The most important attributes from logistic regression: 'Customer Type_disloval Customer','Gender_Male','Class_Eco Plus','Type of Travel_Personal Travel','Inflight entertainment'.\n"
   ]
  },
  {
   "cell_type": "code",
   "execution_count": 68,
   "metadata": {
    "id": "I7hHU-M1N7Gx"
   },
   "outputs": [],
   "source": [
    "l_predictors = ['Customer Type_disloyal Customer','Gender_Male','Class_Eco Plus','Type of Travel_Personal Travel','Inflight entertainment']\n",
    "l_outcome = 'satisfaction_satisfied' # target variable"
   ]
  },
  {
   "cell_type": "code",
   "execution_count": 69,
   "metadata": {
    "id": "UnCLaeq6RrzH"
   },
   "outputs": [],
   "source": [
    "l_X = df[l_predictors]\n",
    "l_y = df[l_outcome]"
   ]
  },
  {
   "cell_type": "code",
   "execution_count": 70,
   "metadata": {
    "colab": {
     "base_uri": "https://localhost:8080/"
    },
    "id": "hlem-cxcRr1G",
    "outputId": "8adc9416-0bb8-42ea-cafa-a75ff59a2345"
   },
   "outputs": [
    {
     "name": "stdout",
     "output_type": "stream",
     "text": [
      "Train set: (90916, 5) (90916,)\n",
      "Test set: (38964, 5) (38964,)\n"
     ]
    }
   ],
   "source": [
    "X_train_l, X_test_l, y_train_l, y_test_l = train_test_split( l_X, l_y, test_size=0.3, random_state=4)\n",
    "print ('Train set:', X_train_l.shape,  y_train_l.shape)\n",
    "print ('Test set:', X_test_l.shape,  y_test_l.shape)"
   ]
  },
  {
   "cell_type": "code",
   "execution_count": 71,
   "metadata": {
    "colab": {
     "base_uri": "https://localhost:8080/",
     "height": 229
    },
    "id": "58ZQLBTrRr3i",
    "outputId": "770ef7f9-5d37-4454-dca5-f51e029b0513"
   },
   "outputs": [
    {
     "name": "stdout",
     "output_type": "stream",
     "text": [
      "The intercept is -1.7629002014226036\n",
      "                                 coefficient\n",
      "Inflight entertainment              0.892625\n",
      "Class_Eco Plus                     -0.479282\n",
      "Type of Travel_Personal Travel     -0.860327\n",
      "Gender_Male                        -0.910049\n",
      "Customer Type_disloyal Customer    -1.733787\n"
     ]
    }
   ],
   "source": [
    "logit_1 = LogisticRegression(penalty=\"l2\", solver='liblinear')\n",
    "logit_1.fit(X_train_l, y_train_l)\n",
    "\n",
    "print('The intercept is', logit_1.intercept_[0])\n",
    "print(pd.DataFrame({'coefficient': logit_1.coef_[0]}, index=X_train_l.columns).sort_values('coefficient',ascending=False))"
   ]
  },
  {
   "cell_type": "markdown",
   "metadata": {
    "id": "hw7uXSsAoXyg"
   },
   "source": [
    "Accuracy of the model with ONLY the most important attributes"
   ]
  },
  {
   "cell_type": "code",
   "execution_count": 72,
   "metadata": {
    "id": "k4kh55SCSAdt"
   },
   "outputs": [
    {
     "name": "stdout",
     "output_type": "stream",
     "text": [
      "Accuracy: 0.7706857612154809\n",
      "precision score:  0.7447197077973639\n",
      "recall score:  0.8821897192305883\n",
      "f1-score:  0.8076467675615165\n"
     ]
    }
   ],
   "source": [
    "print(\"Accuracy:\",accuracy_score(y_test_l, logit_1.predict(X_test_l)))\n",
    "print(\"precision score: \", precision_score(y_test_l,logit_1.predict(X_test_l)))\n",
    "print(\"recall score: \", recall_score(y_test_l,logit_1.predict(X_test_l)))\n",
    "print(\"f1-score: \", f1_score(y_test_l,logit_1.predict(X_test_l)))"
   ]
  },
  {
   "cell_type": "code",
   "execution_count": 73,
   "metadata": {
    "id": "zD1bPDIjSpx7"
   },
   "outputs": [
    {
     "data": {
      "text/html": [
       "<div>\n",
       "<style scoped>\n",
       "    .dataframe tbody tr th:only-of-type {\n",
       "        vertical-align: middle;\n",
       "    }\n",
       "\n",
       "    .dataframe tbody tr th {\n",
       "        vertical-align: top;\n",
       "    }\n",
       "\n",
       "    .dataframe thead th {\n",
       "        text-align: right;\n",
       "    }\n",
       "</style>\n",
       "<table border=\"1\" class=\"dataframe\">\n",
       "  <thead>\n",
       "    <tr style=\"text-align: right;\">\n",
       "      <th></th>\n",
       "      <th>PC1</th>\n",
       "      <th>PC2</th>\n",
       "      <th>PC3</th>\n",
       "      <th>PC4</th>\n",
       "      <th>PC5</th>\n",
       "    </tr>\n",
       "  </thead>\n",
       "  <tbody>\n",
       "    <tr>\n",
       "      <th>Standard deviation</th>\n",
       "      <td>1.3520</td>\n",
       "      <td>0.5014</td>\n",
       "      <td>0.4901</td>\n",
       "      <td>0.3269</td>\n",
       "      <td>0.2565</td>\n",
       "    </tr>\n",
       "    <tr>\n",
       "      <th>Proportion of variance</th>\n",
       "      <td>0.7335</td>\n",
       "      <td>0.1009</td>\n",
       "      <td>0.0964</td>\n",
       "      <td>0.0429</td>\n",
       "      <td>0.0264</td>\n",
       "    </tr>\n",
       "    <tr>\n",
       "      <th>Cumulative proportion</th>\n",
       "      <td>0.7335</td>\n",
       "      <td>0.8344</td>\n",
       "      <td>0.9307</td>\n",
       "      <td>0.9736</td>\n",
       "      <td>1.0000</td>\n",
       "    </tr>\n",
       "  </tbody>\n",
       "</table>\n",
       "</div>"
      ],
      "text/plain": [
       "                           PC1     PC2     PC3     PC4     PC5\n",
       "Standard deviation      1.3520  0.5014  0.4901  0.3269  0.2565\n",
       "Proportion of variance  0.7335  0.1009  0.0964  0.0429  0.0264\n",
       "Cumulative proportion   0.7335  0.8344  0.9307  0.9736  1.0000"
      ]
     },
     "execution_count": 73,
     "metadata": {},
     "output_type": "execute_result"
    }
   ],
   "source": [
    "pcs_logit = PCA(n_components=5)\n",
    "pcs_logit.fit(df[['Customer Type_disloyal Customer','Gender_Male','Class_Eco Plus','Type of Travel_Personal Travel','Inflight entertainment']])\n",
    "\n",
    "pcsSummary_logit = pd.DataFrame({'Standard deviation': np.sqrt(pcs_logit.explained_variance_),\n",
    "                           'Proportion of variance': pcs_logit.explained_variance_ratio_,\n",
    "                           'Cumulative proportion': np.cumsum(pcs_logit.explained_variance_ratio_)})\n",
    "pcsSummary_logit = pcsSummary_logit.transpose()\n",
    "pcsSummary_logit.columns = ['PC1', 'PC2', 'PC3','PC4', 'PC5']\n",
    "pcsSummary_logit.round(4)"
   ]
  },
  {
   "cell_type": "code",
   "execution_count": 74,
   "metadata": {},
   "outputs": [
    {
     "data": {
      "text/html": [
       "<div>\n",
       "<style scoped>\n",
       "    .dataframe tbody tr th:only-of-type {\n",
       "        vertical-align: middle;\n",
       "    }\n",
       "\n",
       "    .dataframe tbody tr th {\n",
       "        vertical-align: top;\n",
       "    }\n",
       "\n",
       "    .dataframe thead th {\n",
       "        text-align: right;\n",
       "    }\n",
       "</style>\n",
       "<table border=\"1\" class=\"dataframe\">\n",
       "  <thead>\n",
       "    <tr style=\"text-align: right;\">\n",
       "      <th></th>\n",
       "      <th>PC1</th>\n",
       "      <th>PC2</th>\n",
       "      <th>PC3</th>\n",
       "      <th>PC4</th>\n",
       "      <th>PC5</th>\n",
       "    </tr>\n",
       "  </thead>\n",
       "  <tbody>\n",
       "    <tr>\n",
       "      <th>0</th>\n",
       "      <td>-0.637340</td>\n",
       "      <td>-0.181527</td>\n",
       "      <td>0.805677</td>\n",
       "      <td>0.188564</td>\n",
       "      <td>-0.120928</td>\n",
       "    </tr>\n",
       "    <tr>\n",
       "      <th>1</th>\n",
       "      <td>1.412609</td>\n",
       "      <td>-0.796994</td>\n",
       "      <td>0.163450</td>\n",
       "      <td>0.109216</td>\n",
       "      <td>-0.133490</td>\n",
       "    </tr>\n",
       "    <tr>\n",
       "      <th>2</th>\n",
       "      <td>3.343401</td>\n",
       "      <td>-0.066229</td>\n",
       "      <td>0.985882</td>\n",
       "      <td>-0.133962</td>\n",
       "      <td>-0.183405</td>\n",
       "    </tr>\n",
       "    <tr>\n",
       "      <th>3</th>\n",
       "      <td>-0.637340</td>\n",
       "      <td>-0.181527</td>\n",
       "      <td>0.805677</td>\n",
       "      <td>0.188564</td>\n",
       "      <td>-0.120928</td>\n",
       "    </tr>\n",
       "    <tr>\n",
       "      <th>4</th>\n",
       "      <td>0.357845</td>\n",
       "      <td>-0.152703</td>\n",
       "      <td>0.850728</td>\n",
       "      <td>0.107933</td>\n",
       "      <td>-0.136547</td>\n",
       "    </tr>\n",
       "  </tbody>\n",
       "</table>\n",
       "</div>"
      ],
      "text/plain": [
       "        PC1       PC2       PC3       PC4       PC5\n",
       "0 -0.637340 -0.181527  0.805677  0.188564 -0.120928\n",
       "1  1.412609 -0.796994  0.163450  0.109216 -0.133490\n",
       "2  3.343401 -0.066229  0.985882 -0.133962 -0.183405\n",
       "3 -0.637340 -0.181527  0.805677  0.188564 -0.120928\n",
       "4  0.357845 -0.152703  0.850728  0.107933 -0.136547"
      ]
     },
     "execution_count": 74,
     "metadata": {},
     "output_type": "execute_result"
    }
   ],
   "source": [
    "scores_logit = pd.DataFrame(pcs_logit.transform(df[['Customer Type_disloyal Customer','Gender_Male','Class_Eco Plus','Type of Travel_Personal Travel','Inflight entertainment']]), \n",
    "                      columns=['PC1', 'PC2', 'PC3', 'PC4', 'PC5'])\n",
    "scores_logit.head()"
   ]
  },
  {
   "cell_type": "markdown",
   "metadata": {
    "id": "hGIPLfNHodxi"
   },
   "source": [
    "USE PC SCORES TO RUN MODEL"
   ]
  },
  {
   "cell_type": "code",
   "execution_count": 75,
   "metadata": {
    "id": "l3VRqoggS8De"
   },
   "outputs": [],
   "source": [
    "ll_predictors = ['PC1','PC2','PC3','PC4']\n",
    "ll_outcome = 'satisfaction_satisfied' # target variable"
   ]
  },
  {
   "cell_type": "code",
   "execution_count": 76,
   "metadata": {
    "id": "Y41CZEPDmfKg"
   },
   "outputs": [],
   "source": [
    "ll_X = scores_logit[ll_predictors]\n",
    "ll_y = df[ll_outcome]"
   ]
  },
  {
   "cell_type": "code",
   "execution_count": 77,
   "metadata": {
    "id": "gsvnFKJzmfNc"
   },
   "outputs": [
    {
     "name": "stdout",
     "output_type": "stream",
     "text": [
      "Train set: (90916, 4) (90916,)\n",
      "Test set: (38964, 4) (38964,)\n"
     ]
    }
   ],
   "source": [
    "X_train_ll, X_test_ll, y_train_ll, y_test_ll = train_test_split( ll_X, ll_y, test_size=0.3, random_state=4)\n",
    "print ('Train set:', X_train_ll.shape,  y_train_ll.shape)\n",
    "print ('Test set:', X_test_ll.shape,  y_test_ll.shape)"
   ]
  },
  {
   "cell_type": "code",
   "execution_count": 78,
   "metadata": {
    "id": "_jy65iYYmfPZ"
   },
   "outputs": [
    {
     "data": {
      "text/plain": [
       "LogisticRegression(solver='liblinear')"
      ]
     },
     "execution_count": 78,
     "metadata": {},
     "output_type": "execute_result"
    }
   ],
   "source": [
    "logit_2 = LogisticRegression(penalty=\"l2\", solver='liblinear')\n",
    "logit_2.fit(X_train_ll, y_train_ll)"
   ]
  },
  {
   "cell_type": "code",
   "execution_count": 79,
   "metadata": {
    "id": "FtIMZCf1mxF2"
   },
   "outputs": [
    {
     "name": "stdout",
     "output_type": "stream",
     "text": [
      "Accuracy: 0.7923981110768915\n",
      "precision score:  0.8006389776357827\n",
      "recall score:  0.825001175751305\n",
      "f1-score:  0.8126375280846827\n"
     ]
    }
   ],
   "source": [
    "print(\"Accuracy:\",accuracy_score(y_test_ll, logit_2.predict(X_test_ll)))\n",
    "print(\"precision score: \", precision_score(y_test_ll,logit_2.predict(X_test_ll)))\n",
    "print(\"recall score: \", recall_score(y_test_ll,logit_2.predict(X_test_ll)))\n",
    "print(\"f1-score: \", f1_score(y_test_ll,logit_2.predict(X_test_ll)))"
   ]
  },
  {
   "cell_type": "markdown",
   "metadata": {
    "id": "yl_b27toS--K"
   },
   "source": [
    "#### PCA (based on nb)\n"
   ]
  },
  {
   "cell_type": "markdown",
   "metadata": {
    "id": "f3JcdUKUTGCl"
   },
   "source": [
    "The most important attributes from nb: 'Flight Distance','Age','Arrival Delay in Minutes','Departure Delay in Minutes','Cleanliness'."
   ]
  },
  {
   "cell_type": "code",
   "execution_count": 80,
   "metadata": {
    "id": "6Clb_lXoTbsX"
   },
   "outputs": [],
   "source": [
    "n_predictors = ['Flight Distance','Age','Departure Delay in Minutes','Cleanliness','Baggage handling']\n",
    "n_outcome = 'satisfaction_satisfied' # target variable"
   ]
  },
  {
   "cell_type": "code",
   "execution_count": 81,
   "metadata": {
    "id": "aX0aUh4zTi-f"
   },
   "outputs": [],
   "source": [
    "n_X = df[n_predictors]\n",
    "n_y = df[n_outcome]"
   ]
  },
  {
   "cell_type": "code",
   "execution_count": 82,
   "metadata": {
    "id": "KpU9XUkETjAk"
   },
   "outputs": [],
   "source": [
    "X_train_n, X_test_n, y_train_n, y_test_n = train_test_split( n_X, n_y, test_size=0.3, random_state=4)\n"
   ]
  },
  {
   "cell_type": "code",
   "execution_count": 83,
   "metadata": {
    "id": "jStFYG3XTjDJ"
   },
   "outputs": [],
   "source": [
    "nb_1=nb.fit(X_train_n, y_train_n)"
   ]
  },
  {
   "cell_type": "code",
   "execution_count": 84,
   "metadata": {
    "id": "-z10692HTjFi"
   },
   "outputs": [],
   "source": [
    "predProb_train_1 = nb_1.predict_proba(X_train_n)\n",
    "predProb_test_1 = nb_1.predict_proba(X_test_n)\n",
    "\n",
    "# predict class membership\n",
    "y_test_pred_1 = nb_1.predict(X_test_n)\n",
    "y_train_pred_1 = nb_1.predict(X_train_n)"
   ]
  },
  {
   "cell_type": "markdown",
   "metadata": {
    "id": "WD3j07aaokKF"
   },
   "source": [
    "Accuracy of the model with ONLY the most important attributes"
   ]
  },
  {
   "cell_type": "code",
   "execution_count": 85,
   "metadata": {
    "id": "00CRFCm_TjH6"
   },
   "outputs": [
    {
     "name": "stdout",
     "output_type": "stream",
     "text": [
      "Confusion Matrix (Accuracy 0.6373)\n",
      "\n",
      "       Prediction\n",
      "Actual     0     1\n",
      "     0  8398  9303\n",
      "     1  4829 16434\n",
      "\n",
      "Accuracy on train is 0.64\n",
      "Precision score on train is 0.64\n",
      "Recall score on train is 0.77\n",
      "F1 score on train is 0.7\n"
     ]
    }
   ],
   "source": [
    "classificationSummary(y_test_n, nb_1.predict(X_test_n))\n",
    "\n",
    "#accuracy of model for validation set\n",
    "print('\\nAccuracy on train is', round(accuracy_score(y_test_n,y_test_pred_1),2))\n",
    "print('Precision score on train is', round(precision_score(y_test_n,y_test_pred_1, pos_label = 1),2))\n",
    "print('Recall score on train is', round(recall_score(y_test_n,y_test_pred_1, pos_label = 1),2))\n",
    "print('F1 score on train is', round(f1_score(y_test_n,y_test_pred_1, pos_label = 1),2))"
   ]
  },
  {
   "cell_type": "code",
   "execution_count": 86,
   "metadata": {
    "id": "adbO47kpUwpu"
   },
   "outputs": [
    {
     "data": {
      "text/html": [
       "<div>\n",
       "<style scoped>\n",
       "    .dataframe tbody tr th:only-of-type {\n",
       "        vertical-align: middle;\n",
       "    }\n",
       "\n",
       "    .dataframe tbody tr th {\n",
       "        vertical-align: top;\n",
       "    }\n",
       "\n",
       "    .dataframe thead th {\n",
       "        text-align: right;\n",
       "    }\n",
       "</style>\n",
       "<table border=\"1\" class=\"dataframe\">\n",
       "  <thead>\n",
       "    <tr style=\"text-align: right;\">\n",
       "      <th></th>\n",
       "      <th>PC1</th>\n",
       "      <th>PC2</th>\n",
       "      <th>PC3</th>\n",
       "      <th>PC4</th>\n",
       "      <th>PC5</th>\n",
       "    </tr>\n",
       "  </thead>\n",
       "  <tbody>\n",
       "    <tr>\n",
       "      <th>Standard deviation</th>\n",
       "      <td>1027.1315</td>\n",
       "      <td>37.8303</td>\n",
       "      <td>14.6373</td>\n",
       "      <td>1.4727</td>\n",
       "      <td>0.699</td>\n",
       "    </tr>\n",
       "    <tr>\n",
       "      <th>Proportion of variance</th>\n",
       "      <td>0.9984</td>\n",
       "      <td>0.0014</td>\n",
       "      <td>0.0002</td>\n",
       "      <td>0.0000</td>\n",
       "      <td>0.000</td>\n",
       "    </tr>\n",
       "    <tr>\n",
       "      <th>Cumulative proportion</th>\n",
       "      <td>0.9984</td>\n",
       "      <td>0.9998</td>\n",
       "      <td>1.0000</td>\n",
       "      <td>1.0000</td>\n",
       "      <td>1.000</td>\n",
       "    </tr>\n",
       "  </tbody>\n",
       "</table>\n",
       "</div>"
      ],
      "text/plain": [
       "                              PC1      PC2      PC3     PC4    PC5\n",
       "Standard deviation      1027.1315  37.8303  14.6373  1.4727  0.699\n",
       "Proportion of variance     0.9984   0.0014   0.0002  0.0000  0.000\n",
       "Cumulative proportion      0.9984   0.9998   1.0000  1.0000  1.000"
      ]
     },
     "execution_count": 86,
     "metadata": {},
     "output_type": "execute_result"
    }
   ],
   "source": [
    "pcs_nb = PCA(n_components=5)\n",
    "pcs_nb.fit(df[['Flight Distance','Age','Departure Delay in Minutes','Cleanliness','Baggage handling']])\n",
    "\n",
    "pcsSummary_nb = pd.DataFrame({'Standard deviation': np.sqrt(pcs_nb.explained_variance_),\n",
    "                           'Proportion of variance': pcs_nb.explained_variance_ratio_,\n",
    "                           'Cumulative proportion': np.cumsum(pcs_nb.explained_variance_ratio_)})\n",
    "pcsSummary_nb = pcsSummary_nb.transpose()\n",
    "pcsSummary_nb.columns = ['PC1', 'PC2', 'PC3','PC4', 'PC5']\n",
    "pcsSummary_nb.round(4)"
   ]
  },
  {
   "cell_type": "code",
   "execution_count": 87,
   "metadata": {},
   "outputs": [
    {
     "data": {
      "text/html": [
       "<div>\n",
       "<style scoped>\n",
       "    .dataframe tbody tr th:only-of-type {\n",
       "        vertical-align: middle;\n",
       "    }\n",
       "\n",
       "    .dataframe tbody tr th {\n",
       "        vertical-align: top;\n",
       "    }\n",
       "\n",
       "    .dataframe thead th {\n",
       "        text-align: right;\n",
       "    }\n",
       "</style>\n",
       "<table border=\"1\" class=\"dataframe\">\n",
       "  <thead>\n",
       "    <tr style=\"text-align: right;\">\n",
       "      <th></th>\n",
       "      <th>PC1</th>\n",
       "      <th>PC2</th>\n",
       "      <th>PC3</th>\n",
       "      <th>PC4</th>\n",
       "      <th>PC5</th>\n",
       "    </tr>\n",
       "  </thead>\n",
       "  <tbody>\n",
       "    <tr>\n",
       "      <th>0</th>\n",
       "      <td>-1716.537957</td>\n",
       "      <td>-7.367243</td>\n",
       "      <td>19.332309</td>\n",
       "      <td>0.935282</td>\n",
       "      <td>-0.029177</td>\n",
       "    </tr>\n",
       "    <tr>\n",
       "      <th>1</th>\n",
       "      <td>483.789219</td>\n",
       "      <td>293.340837</td>\n",
       "      <td>6.700551</td>\n",
       "      <td>-0.197243</td>\n",
       "      <td>-0.383775</td>\n",
       "    </tr>\n",
       "    <tr>\n",
       "      <th>2</th>\n",
       "      <td>156.616841</td>\n",
       "      <td>-15.583233</td>\n",
       "      <td>-23.713273</td>\n",
       "      <td>-0.360111</td>\n",
       "      <td>-0.027089</td>\n",
       "    </tr>\n",
       "    <tr>\n",
       "      <th>3</th>\n",
       "      <td>-1358.525188</td>\n",
       "      <td>-8.891384</td>\n",
       "      <td>15.665790</td>\n",
       "      <td>3.779766</td>\n",
       "      <td>-0.042157</td>\n",
       "    </tr>\n",
       "    <tr>\n",
       "      <th>4</th>\n",
       "      <td>-1627.557743</td>\n",
       "      <td>-7.688593</td>\n",
       "      <td>24.664535</td>\n",
       "      <td>2.344418</td>\n",
       "      <td>-0.034130</td>\n",
       "    </tr>\n",
       "  </tbody>\n",
       "</table>\n",
       "</div>"
      ],
      "text/plain": [
       "           PC1         PC2        PC3       PC4       PC5\n",
       "0 -1716.537957   -7.367243  19.332309  0.935282 -0.029177\n",
       "1   483.789219  293.340837   6.700551 -0.197243 -0.383775\n",
       "2   156.616841  -15.583233 -23.713273 -0.360111 -0.027089\n",
       "3 -1358.525188   -8.891384  15.665790  3.779766 -0.042157\n",
       "4 -1627.557743   -7.688593  24.664535  2.344418 -0.034130"
      ]
     },
     "execution_count": 87,
     "metadata": {},
     "output_type": "execute_result"
    }
   ],
   "source": [
    "scores_nb = pd.DataFrame(pcs_nb.transform(df[['Flight Distance','Age','Departure Delay in Minutes','Cleanliness','Baggage handling']]), \n",
    "                      columns=['PC1', 'PC2', 'PC3', 'PC4', 'PC5'])\n",
    "scores_nb.head()"
   ]
  },
  {
   "cell_type": "markdown",
   "metadata": {
    "id": "oSEnrsrqorKr"
   },
   "source": [
    "USE PC SCORES TO RUN MODEL"
   ]
  },
  {
   "cell_type": "code",
   "execution_count": 88,
   "metadata": {
    "id": "-SZ8vwwknSqs"
   },
   "outputs": [],
   "source": [
    "nn_predictors = ['PC1','PC2']\n",
    "nn_outcome = 'satisfaction_satisfied' # target variable"
   ]
  },
  {
   "cell_type": "code",
   "execution_count": 89,
   "metadata": {
    "id": "Jb-SYUt8nS3I"
   },
   "outputs": [],
   "source": [
    "nn_X = scores_nb[nn_predictors]\n",
    "nn_y = df[nn_outcome]"
   ]
  },
  {
   "cell_type": "code",
   "execution_count": 90,
   "metadata": {
    "id": "WEOhL9s0nS9r"
   },
   "outputs": [],
   "source": [
    "X_train_nn, X_test_nn, y_train_nn, y_test_nn = train_test_split( nn_X, nn_y, test_size=0.3, random_state=4)"
   ]
  },
  {
   "cell_type": "code",
   "execution_count": 91,
   "metadata": {
    "id": "KDwzkwQynTAf"
   },
   "outputs": [],
   "source": [
    "nb_2=nb.fit(X_train_nn, y_train_nn)"
   ]
  },
  {
   "cell_type": "code",
   "execution_count": 92,
   "metadata": {
    "id": "xTAqJwLgnTFn"
   },
   "outputs": [],
   "source": [
    "predProb_train_2 = nb_2.predict_proba(X_train_nn)\n",
    "predProb_test_2 = nb_2.predict_proba(X_test_nn)\n",
    "\n",
    "# predict class membership\n",
    "y_test_pred_2 = nb_2.predict(X_test_nn)\n",
    "y_train_pred_2 = nb_2.predict(X_train_nn)"
   ]
  },
  {
   "cell_type": "code",
   "execution_count": 93,
   "metadata": {
    "id": "VbgEMIdznmvU"
   },
   "outputs": [
    {
     "name": "stdout",
     "output_type": "stream",
     "text": [
      "Confusion Matrix (Accuracy 0.5573)\n",
      "\n",
      "       Prediction\n",
      "Actual     0     1\n",
      "     0  1881 15820\n",
      "     1  1430 19833\n",
      "\n",
      "Accuracy on train is 0.56\n",
      "Precision score on train is 0.56\n",
      "Recall score on train is 0.93\n",
      "F1 score on train is 0.7\n"
     ]
    }
   ],
   "source": [
    "classificationSummary(y_test_nn, nb_2.predict(X_test_nn))\n",
    "\n",
    "#accuracy of model for validation set\n",
    "print('\\nAccuracy on train is', round(accuracy_score(y_test_nn,y_test_pred_2),2))\n",
    "print('Precision score on train is', round(precision_score(y_test_nn,y_test_pred_2, pos_label = 1),2))\n",
    "print('Recall score on train is', round(recall_score(y_test_nn,y_test_pred_2, pos_label = 1),2))\n",
    "print('F1 score on train is', round(f1_score(y_test_nn,y_test_pred_2, pos_label = 1),2))"
   ]
  },
  {
   "cell_type": "markdown",
   "metadata": {
    "id": "6JenldLJXT__"
   },
   "source": [
    "PCA for all importance attributes\n"
   ]
  },
  {
   "cell_type": "code",
   "execution_count": 94,
   "metadata": {
    "id": "HD1sAGmEWRIk"
   },
   "outputs": [
    {
     "data": {
      "text/html": [
       "<div>\n",
       "<style scoped>\n",
       "    .dataframe tbody tr th:only-of-type {\n",
       "        vertical-align: middle;\n",
       "    }\n",
       "\n",
       "    .dataframe tbody tr th {\n",
       "        vertical-align: top;\n",
       "    }\n",
       "\n",
       "    .dataframe thead th {\n",
       "        text-align: right;\n",
       "    }\n",
       "</style>\n",
       "<table border=\"1\" class=\"dataframe\">\n",
       "  <thead>\n",
       "    <tr style=\"text-align: right;\">\n",
       "      <th></th>\n",
       "      <th>PC1</th>\n",
       "      <th>PC2</th>\n",
       "      <th>PC3</th>\n",
       "      <th>PC4</th>\n",
       "      <th>PC5</th>\n",
       "    </tr>\n",
       "  </thead>\n",
       "  <tbody>\n",
       "    <tr>\n",
       "      <th>Standard deviation</th>\n",
       "      <td>1027.1315</td>\n",
       "      <td>37.8304</td>\n",
       "      <td>14.6401</td>\n",
       "      <td>2.1283</td>\n",
       "      <td>1.5617</td>\n",
       "    </tr>\n",
       "    <tr>\n",
       "      <th>Proportion of variance</th>\n",
       "      <td>0.9984</td>\n",
       "      <td>0.0014</td>\n",
       "      <td>0.0002</td>\n",
       "      <td>0.0000</td>\n",
       "      <td>0.0000</td>\n",
       "    </tr>\n",
       "    <tr>\n",
       "      <th>Cumulative proportion</th>\n",
       "      <td>0.9984</td>\n",
       "      <td>0.9998</td>\n",
       "      <td>1.0000</td>\n",
       "      <td>1.0000</td>\n",
       "      <td>1.0000</td>\n",
       "    </tr>\n",
       "  </tbody>\n",
       "</table>\n",
       "</div>"
      ],
      "text/plain": [
       "                              PC1      PC2      PC3     PC4     PC5\n",
       "Standard deviation      1027.1315  37.8304  14.6401  2.1283  1.5617\n",
       "Proportion of variance     0.9984   0.0014   0.0002  0.0000  0.0000\n",
       "Cumulative proportion      0.9984   0.9998   1.0000  1.0000  1.0000"
      ]
     },
     "execution_count": 94,
     "metadata": {},
     "output_type": "execute_result"
    }
   ],
   "source": [
    "pcs_all = PCA(n_components=5)\n",
    "pcs_all.fit(df[['Flight Distance','Baggage handling','Age','Departure Delay in Minutes','Cleanliness','Inflight entertainment', 'Seat comfort', 'Ease of Online booking','On-board service', 'Online support','Customer Type_disloyal Customer','Gender_Male','Class_Eco Plus','Type of Travel_Personal Travel']])\n",
    "\n",
    "pcsSummary_all = pd.DataFrame({'Standard deviation': np.sqrt(pcs_all.explained_variance_),\n",
    "                           'Proportion of variance': pcs_all.explained_variance_ratio_,\n",
    "                           'Cumulative proportion': np.cumsum(pcs_all.explained_variance_ratio_)})\n",
    "pcsSummary_all = pcsSummary_all.transpose()\n",
    "pcsSummary_all.columns = ['PC1', 'PC2', 'PC3','PC4', 'PC5']\n",
    "pcsSummary_all.round(4)"
   ]
  },
  {
   "cell_type": "code",
   "execution_count": 95,
   "metadata": {},
   "outputs": [
    {
     "data": {
      "text/html": [
       "<div>\n",
       "<style scoped>\n",
       "    .dataframe tbody tr th:only-of-type {\n",
       "        vertical-align: middle;\n",
       "    }\n",
       "\n",
       "    .dataframe tbody tr th {\n",
       "        vertical-align: top;\n",
       "    }\n",
       "\n",
       "    .dataframe thead th {\n",
       "        text-align: right;\n",
       "    }\n",
       "</style>\n",
       "<table border=\"1\" class=\"dataframe\">\n",
       "  <thead>\n",
       "    <tr style=\"text-align: right;\">\n",
       "      <th></th>\n",
       "      <th>PC1</th>\n",
       "      <th>PC2</th>\n",
       "      <th>PC3</th>\n",
       "      <th>PC4</th>\n",
       "      <th>PC5</th>\n",
       "    </tr>\n",
       "  </thead>\n",
       "  <tbody>\n",
       "    <tr>\n",
       "      <th>0</th>\n",
       "      <td>-1716.537776</td>\n",
       "      <td>-7.362813</td>\n",
       "      <td>19.311171</td>\n",
       "      <td>2.446030</td>\n",
       "      <td>-0.913761</td>\n",
       "    </tr>\n",
       "    <tr>\n",
       "      <th>1</th>\n",
       "      <td>483.789474</td>\n",
       "      <td>293.344807</td>\n",
       "      <td>6.680216</td>\n",
       "      <td>1.340995</td>\n",
       "      <td>-2.574567</td>\n",
       "    </tr>\n",
       "    <tr>\n",
       "      <th>2</th>\n",
       "      <td>156.617180</td>\n",
       "      <td>-15.573805</td>\n",
       "      <td>-23.778324</td>\n",
       "      <td>3.095096</td>\n",
       "      <td>-3.204598</td>\n",
       "    </tr>\n",
       "    <tr>\n",
       "      <th>3</th>\n",
       "      <td>-1358.524914</td>\n",
       "      <td>-8.883386</td>\n",
       "      <td>15.632726</td>\n",
       "      <td>5.136920</td>\n",
       "      <td>1.844937</td>\n",
       "    </tr>\n",
       "    <tr>\n",
       "      <th>4</th>\n",
       "      <td>-1627.557540</td>\n",
       "      <td>-7.683010</td>\n",
       "      <td>24.639981</td>\n",
       "      <td>3.707322</td>\n",
       "      <td>0.374707</td>\n",
       "    </tr>\n",
       "  </tbody>\n",
       "</table>\n",
       "</div>"
      ],
      "text/plain": [
       "           PC1         PC2        PC3       PC4       PC5\n",
       "0 -1716.537776   -7.362813  19.311171  2.446030 -0.913761\n",
       "1   483.789474  293.344807   6.680216  1.340995 -2.574567\n",
       "2   156.617180  -15.573805 -23.778324  3.095096 -3.204598\n",
       "3 -1358.524914   -8.883386  15.632726  5.136920  1.844937\n",
       "4 -1627.557540   -7.683010  24.639981  3.707322  0.374707"
      ]
     },
     "execution_count": 95,
     "metadata": {},
     "output_type": "execute_result"
    }
   ],
   "source": [
    "scores_all = pd.DataFrame(pcs_all.transform(df[['Flight Distance','Baggage handling','Age','Departure Delay in Minutes','Cleanliness','Inflight entertainment', 'Seat comfort', 'Ease of Online booking','On-board service', 'Online support','Customer Type_disloyal Customer','Gender_Male','Class_Eco Plus','Type of Travel_Personal Travel']]), \n",
    "                      columns=['PC1', 'PC2', 'PC3', 'PC4', 'PC5'])\n",
    "scores_all.head()"
   ]
  },
  {
   "cell_type": "code",
   "execution_count": 96,
   "metadata": {},
   "outputs": [],
   "source": [
    "predictors_all = ['PC1','PC2']\n",
    "outcome_all = 'satisfaction_satisfied' # target variable\n",
    "\n",
    "X_all = scores_all[predictors_all]\n",
    "y_all = df[outcome_all]\n",
    "\n",
    "X_train_all, X_test_all, y_train_all, y_test_all = train_test_split( X_all, y_all, test_size=0.3, random_state=4)\n",
    "\n"
   ]
  },
  {
   "cell_type": "code",
   "execution_count": 97,
   "metadata": {},
   "outputs": [
    {
     "name": "stdout",
     "output_type": "stream",
     "text": [
      "  feature  importance\n",
      "0     PC1    0.862729\n",
      "1     PC2    0.137271\n"
     ]
    }
   ],
   "source": [
    "dt_all = DecisionTreeClassifier(max_depth = 5)\n",
    "dt_all.fit(X_train_all, y_train_all)\n",
    "dt_importances_all = dt_all.feature_importances_\n",
    "dt_df_all = pd.DataFrame({'feature': X_train_all.columns, 'importance': dt_importances_all})\n",
    "dt_df_all = dt_df_all.sort_values('importance', ascending = False)\n",
    "print(dt_df_all)"
   ]
  },
  {
   "cell_type": "code",
   "execution_count": 98,
   "metadata": {},
   "outputs": [
    {
     "name": "stdout",
     "output_type": "stream",
     "text": [
      "Accuracy: 0.5952417616261164\n",
      "precision score:  0.6526064243636768\n",
      "recall score:  0.5522739030240323\n",
      "f1-score:  0.5982627302137198\n"
     ]
    }
   ],
   "source": [
    "print(\"Accuracy:\",accuracy_score(y_test_all, dt_all.predict(X_test_all)))\n",
    "print(\"precision score: \", precision_score(y_test_all,dt_all.predict(X_test_all)))\n",
    "print(\"recall score: \", recall_score(y_test_all,dt_all.predict(X_test_all)))\n",
    "print(\"f1-score: \", f1_score(y_test_all,dt_all.predict(X_test_all)))"
   ]
  },
  {
   "cell_type": "markdown",
   "metadata": {
    "id": "UApff3e1u_0p"
   },
   "source": [
    "# Model Builing"
   ]
  },
  {
   "cell_type": "markdown",
   "metadata": {
    "id": "ROPwtXT21cwb"
   },
   "source": [
    "Accuracy is the most intuitive performance measure and it is simply a ratio of correctly predicted observation to the total observations.\n",
    "\n",
    "We build three models (Logistic Regression, Decision Tree and Naive Bayes) above for our airline analysis, and we tried three different depth for decision tree. Among those models, Decision Tree with a depth of 5 has a hightest accuracy of 87.6% while Naive Bayes has a lowest accuracy of 82%. In addition, Decision Tree with a depth of 5 has a overall high precision score, recall score, and the highest AUC. Therefore, Decision Tree is the best model to predict customers' satisfaction.  "
   ]
  },
  {
   "cell_type": "markdown",
   "metadata": {
    "id": "V7fF5GAa64RG"
   },
   "source": [
    "Since we find out the most important attributes from decision tree are as following: 'Inflight entertainment', 'Seat comfort', 'Ease of Online booking','On-board service', 'Online support'. We will set them as our predictors for the model."
   ]
  },
  {
   "cell_type": "code",
   "execution_count": 99,
   "metadata": {
    "id": "iK-hdgOf7tfJ"
   },
   "outputs": [],
   "source": [
    "predictorsnew = ['Seat comfort', 'Inflight entertainment', 'Online support',\n",
    "       'Ease of Online booking', 'On-board service']\n",
    "outcome = 'satisfaction_satisfied'"
   ]
  },
  {
   "cell_type": "code",
   "execution_count": 100,
   "metadata": {
    "id": "d91nZeXE8C2G"
   },
   "outputs": [],
   "source": [
    "X_final=df[predictorsnew]\n",
    "y_final=df[outcome]"
   ]
  },
  {
   "cell_type": "code",
   "execution_count": 101,
   "metadata": {
    "id": "5viPG0Bu8bjz"
   },
   "outputs": [
    {
     "name": "stdout",
     "output_type": "stream",
     "text": [
      "Train set: (90916, 5) (90916,)\n",
      "Test set: (38964, 5) (38964,)\n"
     ]
    }
   ],
   "source": [
    "X_train_final, X_test_final, y_train_final, y_test_final = train_test_split( X_final, y_final, test_size=0.3, random_state=4)\n",
    "print ('Train set:', X_train_final.shape,  y_train_final.shape)\n",
    "print ('Test set:', X_test_final.shape,  y_test_final.shape)"
   ]
  },
  {
   "cell_type": "code",
   "execution_count": 102,
   "metadata": {},
   "outputs": [
    {
     "name": "stdout",
     "output_type": "stream",
     "text": [
      "                  feature  importance\n",
      "1  Inflight entertainment    0.633050\n",
      "0            Seat comfort    0.237333\n",
      "3  Ease of Online booking    0.086809\n",
      "4        On-board service    0.024923\n",
      "2          Online support    0.017886\n"
     ]
    }
   ],
   "source": [
    "dt_final = DecisionTreeClassifier(max_depth = 5)\n",
    "dt_final.fit(X_train_final, y_train_final)\n",
    "\n",
    "dt_importances_final = dt_final.feature_importances_\n",
    "dt_df_final = pd.DataFrame({'feature': X_train_final.columns, 'importance': dt_importances_final})\n",
    "dt_df_final = dt_df_final.sort_values('importance', ascending = False)\n",
    "print(dt_df_final)"
   ]
  },
  {
   "cell_type": "code",
   "execution_count": 103,
   "metadata": {
    "colab": {
     "base_uri": "https://localhost:8080/",
     "height": 232
    },
    "id": "aizqH6-aBIwc",
    "outputId": "5ba43118-ec53-4e79-8206-337077b264b5"
   },
   "outputs": [
    {
     "data": {
      "text/plain": [
       "'You need to install pydotplus to visualize decision trees'"
      ]
     },
     "execution_count": 103,
     "metadata": {},
     "output_type": "execute_result"
    }
   ],
   "source": [
    "plotDecisionTree(dt_final, feature_names=predictorsnew, class_names=dt_final.classes_)"
   ]
  },
  {
   "cell_type": "code",
   "execution_count": null,
   "metadata": {},
   "outputs": [],
   "source": []
  }
 ],
 "metadata": {
  "colab": {
   "collapsed_sections": [],
   "name": "Alpha_Airline_Customers_Satisfaction.ipynb",
   "provenance": []
  },
  "kernelspec": {
   "display_name": "Python 3",
   "language": "python",
   "name": "python3"
  },
  "language_info": {
   "codemirror_mode": {
    "name": "ipython",
    "version": 3
   },
   "file_extension": ".py",
   "mimetype": "text/x-python",
   "name": "python",
   "nbconvert_exporter": "python",
   "pygments_lexer": "ipython3",
   "version": "3.8.5"
  }
 },
 "nbformat": 4,
 "nbformat_minor": 4
}
